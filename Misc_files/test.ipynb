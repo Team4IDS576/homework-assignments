{
  "cells": [
    {
      "cell_type": "markdown",
      "metadata": {
        "id": "DLgw1OqHHawI"
      },
      "source": [
        "Isaacs Code"
      ]
    },
    {
      "cell_type": "code",
      "execution_count": null,
      "metadata": {
        "id": "7VeUIYYUHawL"
      },
      "outputs": [],
      "source": [
        "# test code"
      ]
    },
    {
      "cell_type": "markdown",
      "metadata": {
        "id": "tFu069hTHawL"
      },
      "source": [
        "Sadjads Code"
      ]
    },
    {
      "cell_type": "code",
      "execution_count": null,
      "metadata": {
        "id": "t-M35EDlHawM"
      },
      "outputs": [],
      "source": []
    }
  ],
  "metadata": {
    "language_info": {
      "name": "python"
    },
    "orig_nbformat": 4,
    "colab": {
      "provenance": []
    }
  },
  "nbformat": 4,
  "nbformat_minor": 0
}