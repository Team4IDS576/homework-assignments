{
  "cells": [
    {
      "cell_type": "markdown",
      "metadata": {
        "id": "qC-9XzqYHbzJ"
      },
      "source": [
        "Isaacs Code"
      ]
    },
    {
      "cell_type": "code",
      "execution_count": null,
      "metadata": {
        "id": "dqBvNPLsHbzL"
      },
      "outputs": [],
      "source": [
        "# another test haha:)"
      ]
    },
    {
      "cell_type": "code",
      "execution_count": null,
      "metadata": {
        "id": "4ftAyPvxKWop"
      },
      "outputs": [],
      "source": [
        "# new addition of code"
      ]
    },
    {
      "cell_type": "code",
      "execution_count": null,
      "metadata": {
        "id": "PIqGRInDKWop"
      },
      "outputs": [],
      "source": [
        "# new this"
      ]
    },
    {
      "cell_type": "markdown",
      "metadata": {
        "id": "EC129JSoKWop"
      },
      "source": [
        "$f(x_1,x_2) = x_1+x_2$"
      ]
    },
    {
      "cell_type": "markdown",
      "metadata": {
        "id": "mNApG14SHbzL"
      },
      "source": [
        "Sadjads Code"
      ]
    },
    {
      "cell_type": "code",
      "execution_count": null,
      "metadata": {
        "id": "BQnIYxGBHbzM"
      },
      "outputs": [],
      "source": [
        "# hey Isaac\n",
        "# Another change\n",
        "# The third change"
      ]
    },
    {
      "cell_type": "code",
      "source": [
        "# I added this block of Code"
      ],
      "metadata": {
        "id": "muH4Atr7Pxrt"
      },
      "execution_count": null,
      "outputs": []
    },
    {
      "cell_type": "code",
      "source": [
        "print('Hello World!')"
      ],
      "metadata": {
        "id": "6J1REUWsP8DI"
      },
      "execution_count": null,
      "outputs": []
    },
    {
      "cell_type": "markdown",
      "source": [
        "Ahreum"
      ],
      "metadata": {
        "id": "O6PvdsVQPzw4"
      }
    },
    {
      "cell_type": "code",
      "source": [
        "# this one is for her!"
      ],
      "metadata": {
        "id": "h8LA9cZcP3Xn"
      },
      "execution_count": null,
      "outputs": []
    },
    {
      "cell_type": "code",
      "source": [
        "print(\"Hello there!\")"
      ],
      "metadata": {
        "id": "qUg0JE4RKZmR",
        "outputId": "0c8a2b9a-7c5c-4155-e2bc-2b21363f94c2",
        "colab": {
          "base_uri": "https://localhost:8080/"
        }
      },
      "execution_count": 1,
      "outputs": [
        {
          "output_type": "stream",
          "name": "stdout",
          "text": [
            "Hello there!\n"
          ]
        }
      ]
    }
  ],
  "metadata": {
    "colab": {
      "provenance": []
    },
    "kernelspec": {
      "display_name": "Python 3",
      "name": "python3"
    },
    "language_info": {
      "name": "python"
    },
    "orig_nbformat": 4
  },
  "nbformat": 4,
  "nbformat_minor": 0
}