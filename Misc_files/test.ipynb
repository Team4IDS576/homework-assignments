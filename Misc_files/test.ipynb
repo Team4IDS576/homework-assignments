{
  "cells": [
    {
      "cell_type": "markdown",
      "metadata": {
        "id": "qC-9XzqYHbzJ"
      },
      "source": [
        "Isaacs Code"
      ]
    },
    {
      "cell_type": "code",
      "execution_count": null,
      "metadata": {
        "id": "dqBvNPLsHbzL"
      },
      "outputs": [],
      "source": [
        "# another test haha:)"
      ]
    },
    {
      "cell_type": "code",
      "execution_count": null,
      "metadata": {
        "id": "-SGYYgrgL0vz"
      },
      "outputs": [],
      "source": [
        "# new addition of code"
      ]
    },
    {
      "cell_type": "code",
      "execution_count": null,
      "metadata": {
        "id": "lvfnNCXCL0vz"
      },
      "outputs": [],
      "source": [
        "# new this"
      ]
    },
    {
      "cell_type": "code",
      "execution_count": null,
      "metadata": {
        "id": "KNpGoCqwL0v0",
        "outputId": "1b7d9882-e7ed-4a78-f81f-66eb123029b5"
      },
      "outputs": [
        {
          "name": "stdout",
          "output_type": "stream",
          "text": [
            "i hope this works\n"
          ]
        }
      ],
      "source": [
        "print(\"i hope this works\")"
      ]
    },
    {
      "cell_type": "markdown",
      "metadata": {
        "id": "Zn96p3MyL0v1"
      },
      "source": [
        "$f(x_1,x_2) = x_1+x_2$"
      ]
    },
    {
      "cell_type": "markdown",
      "metadata": {
        "id": "mNApG14SHbzL"
      },
      "source": [
        "Sadjads Code"
      ]
    },
    {
      "cell_type": "code",
      "execution_count": null,
      "metadata": {
        "id": "BQnIYxGBHbzM"
      },
      "outputs": [],
      "source": [
        "# hey Isaac\n",
        "# Another change\n",
        "# The third change"
      ]
    },
    {
      "cell_type": "code",
      "execution_count": null,
      "metadata": {
        "id": "muH4Atr7Pxrt"
      },
      "outputs": [],
      "source": [
        "# I added this block of Code"
      ]
    },
    {
      "cell_type": "code",
      "execution_count": null,
      "metadata": {
        "id": "6J1REUWsP8DI",
        "outputId": "fc5d6a05-ca11-4f40-e628-c556f92d06af"
      },
      "outputs": [
        {
          "name": "stdout",
          "output_type": "stream",
          "text": [
            "Hello World!\n"
          ]
        }
      ],
      "source": [
        "print('Hello World!')"
      ]
    },
    {
      "cell_type": "markdown",
      "metadata": {
        "id": "O6PvdsVQPzw4"
      },
      "source": [
        "Ahreum"
      ]
    },
    {
      "cell_type": "code",
      "execution_count": null,
      "metadata": {
        "id": "h8LA9cZcP3Xn"
      },
      "outputs": [],
      "source": [
        "# this one is for her!"
      ]
    },
    {
      "cell_type": "code",
      "execution_count": 2,
      "metadata": {
        "colab": {
          "base_uri": "https://localhost:8080/"
        },
        "id": "9pbf4KIYL2mp",
        "outputId": "82fba3f3-2fcd-4fe9-d97e-99219a9898dc"
      },
      "outputs": [
        {
          "name": "stdout",
          "output_type": "stream",
          "text": [
            "hello!\n"
          ]
        }
      ],
      "source": [
        "print(\"hello!, please work\")"
      ]
    }
  ],
  "metadata": {
    "colab": {
      "provenance": []
    },
    "kernelspec": {
      "display_name": "Python 3",
      "name": "python3"
    },
    "language_info": {
      "codemirror_mode": {
        "name": "ipython",
        "version": 3
      },
      "file_extension": ".py",
      "mimetype": "text/x-python",
      "name": "python",
      "nbconvert_exporter": "python",
      "pygments_lexer": "ipython3",
      "version": "3.11.4"
    },
    "orig_nbformat": 4
  },
  "nbformat": 4,
  "nbformat_minor": 0
}
