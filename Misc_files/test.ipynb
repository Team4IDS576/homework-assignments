{
  "cells": [
    {
      "cell_type": "markdown",
      "metadata": {
        "id": "qC-9XzqYHbzJ"
      },
      "source": [
        "Isaacs Code"
      ]
    },
    {
      "cell_type": "code",
      "execution_count": null,
      "metadata": {
        "id": "dqBvNPLsHbzL"
      },
      "outputs": [],
      "source": []
    },
    {
      "cell_type": "markdown",
      "metadata": {
        "id": "mNApG14SHbzL"
      },
      "source": [
        "Sadjads Code"
      ]
    },
    {
      "cell_type": "code",
      "execution_count": null,
      "metadata": {
        "id": "BQnIYxGBHbzM"
      },
      "outputs": [],
      "source": [
        "# hey Isaac"
      ]
    }
  ],
  "metadata": {
    "language_info": {
      "name": "python"
    },
    "orig_nbformat": 4,
    "colab": {
      "provenance": []
    }
  },
  "nbformat": 4,
  "nbformat_minor": 0
}