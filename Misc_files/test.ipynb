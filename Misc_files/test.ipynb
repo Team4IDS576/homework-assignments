{
  "cells": [
    {
      "cell_type": "markdown",
      "metadata": {
        "id": "qC-9XzqYHbzJ"
      },
      "source": [
        "Isaacs Code"
      ]
    },
    {
      "cell_type": "code",
      "execution_count": null,
      "metadata": {
        "id": "dqBvNPLsHbzL"
      },
      "outputs": [],
      "source": [
        "# another test haha:)"
      ]
    },
    {
      "cell_type": "code",
      "execution_count": null,
      "metadata": {},
      "outputs": [],
      "source": [
        "# new addition of code"
      ]
    },
    {
      "cell_type": "code",
      "execution_count": null,
      "metadata": {},
      "outputs": [],
      "source": [
        "# new this"
      ]
    },
    {
      "cell_type": "markdown",
      "metadata": {},
      "source": [
        "$f(x_1,x_2) = x_1+x_2$"
      ]
    },
    {
      "cell_type": "markdown",
      "metadata": {
        "id": "mNApG14SHbzL"
      },
      "source": [
        "Sadjads Code"
      ]
    },
    {
      "cell_type": "code",
      "execution_count": null,
      "metadata": {
        "id": "BQnIYxGBHbzM"
      },
      "outputs": [],
      "source": [
        "# hey Isaac\n",
        "# Another change\n",
        "# The third change"
      ]
    }
  ],
  "metadata": {
    "colab": {
      "provenance": []
    },
    "kernelspec": {
      "display_name": "Python 3",
      "name": "python3"
    },
    "language_info": {
      "name": "python"
    },
    "orig_nbformat": 4
  },
  "nbformat": 4,
  "nbformat_minor": 0
}
