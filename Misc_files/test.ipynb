{
  "cells": [
    {
      "cell_type": "markdown",
      "metadata": {
        "id": "qC-9XzqYHbzJ"
      },
      "source": [
        "Isaacs Code"
      ]
    },
    {
      "cell_type": "code",
      "execution_count": 1,
      "metadata": {
        "id": "dqBvNPLsHbzL"
      },
      "outputs": [],
      "source": [
        "# another test haha:)"
      ]
    },
    {
      "cell_type": "code",
      "execution_count": 2,
      "metadata": {},
      "outputs": [],
      "source": [
        "# new addition of code"
      ]
    },
    {
      "cell_type": "code",
      "execution_count": 3,
      "metadata": {},
      "outputs": [],
      "source": [
        "# new this"
      ]
    },
    {
      "cell_type": "code",
      "execution_count": 4,
      "metadata": {},
      "outputs": [
        {
          "name": "stdout",
          "output_type": "stream",
          "text": [
            "i hope this works\n"
          ]
        }
      ],
      "source": [
        "print(\"i hope this works\")"
      ]
    },
    {
      "cell_type": "markdown",
      "metadata": {},
      "source": [
        "$f(x_1,x_2) = x_1+x_2$"
      ]
    },
    {
      "cell_type": "markdown",
      "metadata": {
        "id": "mNApG14SHbzL"
      },
      "source": [
        "Sadjads Code"
      ]
    },
    {
      "cell_type": "code",
      "execution_count": 5,
      "metadata": {
        "id": "BQnIYxGBHbzM"
      },
      "outputs": [],
      "source": [
        "# hey Isaac\n",
        "# Another change\n",
        "# The third change"
      ]
    },
    {
      "cell_type": "code",
      "execution_count": 6,
      "metadata": {
        "id": "muH4Atr7Pxrt"
      },
      "outputs": [],
      "source": [
        "# I added this block of Code"
      ]
    },
    {
      "cell_type": "code",
      "execution_count": 7,
      "metadata": {
        "id": "6J1REUWsP8DI"
      },
      "outputs": [
        {
          "name": "stdout",
          "output_type": "stream",
          "text": [
            "Hello World!\n"
          ]
        }
      ],
      "source": [
        "print('Hello World!')"
      ]
    },
    {
      "cell_type": "markdown",
      "metadata": {
        "id": "O6PvdsVQPzw4"
      },
      "source": [
        "Ahreum"
      ]
    },
    {
      "cell_type": "code",
      "execution_count": 8,
      "metadata": {
        "id": "h8LA9cZcP3Xn"
      },
      "outputs": [],
      "source": [
        "# this one is for her!"
      ]
    }
  ],
  "metadata": {
    "colab": {
      "provenance": []
    },
    "kernelspec": {
      "display_name": "Python 3",
      "name": "python3"
    },
    "language_info": {
      "codemirror_mode": {
        "name": "ipython",
        "version": 3
      },
      "file_extension": ".py",
      "mimetype": "text/x-python",
      "name": "python",
      "nbconvert_exporter": "python",
      "pygments_lexer": "ipython3",
      "version": "3.11.4"
    },
    "orig_nbformat": 4
  },
  "nbformat": 4,
  "nbformat_minor": 0
}
