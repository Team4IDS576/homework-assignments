{
  "cells": [
    {
      "cell_type": "markdown",
      "metadata": {
        "id": "DLgw1OqHHawI"
      },
      "source": [
        "Isaacs Code"
      ]
    },
    {
      "cell_type": "code",
      "execution_count": 1,
      "metadata": {
        "id": "7VeUIYYUHawL"
      },
      "outputs": [],
      "source": [
        "# test code"
      ]
    },
    {
      "cell_type": "markdown",
      "metadata": {
        "id": "tFu069hTHawL"
      },
      "source": [
        "Sadjads Code"
      ]
    },
    {
      "cell_type": "code",
      "execution_count": null,
      "metadata": {
        "id": "t-M35EDlHawM"
      },
      "outputs": [],
      "source": []
    }
  ],
  "metadata": {
    "language_info": {
      "name": "python"
    },
    "orig_nbformat": 4,
    "colab": {
      "provenance": []
    },
    "kernelspec": {
      "name": "python3",
      "display_name": "Python 3"
    }
  },
  "nbformat": 4,
  "nbformat_minor": 0
}