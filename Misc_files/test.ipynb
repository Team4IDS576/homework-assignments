{
  "cells": [
    {
      "cell_type": "markdown",
      "metadata": {
        "id": "DLgw1OqHHawI"
      },
      "source": [
        "Isaacs Code"
      ]
    },
    {
      "cell_type": "code",
      "execution_count": 1,
      "metadata": {
        "id": "7VeUIYYUHawL"
      },
      "outputs": [],
      "source": [
        "# test code again ahaha"
      ]
    },
    {
      "cell_type": "markdown",
      "metadata": {
        "id": "tFu069hTHawL"
      },
      "source": [
        "Sadjads Code"
      ]
    },
    {
      "cell_type": "code",
      "execution_count": null,
      "metadata": {
        "id": "t-M35EDlHawM"
      },
      "outputs": [],
      "source": []
    }
  ],
  "metadata": {
    "colab": {
      "provenance": []
    },
    "kernelspec": {
      "display_name": "Python 3",
      "name": "python3"
    },
    "language_info": {
      "name": "python"
    },
    "orig_nbformat": 4
  },
  "nbformat": 4,
  "nbformat_minor": 0
}
