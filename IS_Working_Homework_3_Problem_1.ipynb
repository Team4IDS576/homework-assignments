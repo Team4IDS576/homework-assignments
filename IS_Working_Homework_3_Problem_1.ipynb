{
  "cells": [
    {
      "cell_type": "markdown",
      "metadata": {
        "id": "n13hAAC2wmgC"
      },
      "source": [
        "# 1. RNN for Language Modeling (4pt)\n",
        "\n",
        " -  Import the torchtext IMDB dataset and do the following:\n",
        "   -  Build a  Markov (n-gram) language model.\n",
        "   -  Change the output and the model appropriately in _[Simple Sentiment Analysis.ipynb](https://github.com/bentrevett/pytorch-sentiment-analysis)_ (also available [here](https://github.com/thejat/dl-notebooks/blob/master/examples/rnn/Seq2Seq_RNN_Simple_Sentiment_Analysis.ipynb) where the imports have been slightly modified) to build an LSTM based language model. Plot the training performance as a function of epochs/iterations.\n",
        " -  For each model, describe the key design choices made. Briefly mention how each choice influences training time and generative quality.\n",
        " -  For each model, starting with the phrase \"My favorite movie \", sample the next few words and create an approx. 20 word generated review. Repeat this 5 times (you should ideally get different outputs each time) and report the outputs.\n",
        " - Note: make any assumptions as necessary."
      ]
    },
    {
      "cell_type": "markdown",
      "metadata": {
        "id": "hjlnd8E4wmgF"
      },
      "source": [
        "## `torchtext` IMDB dataset\n",
        "We begin by setting up the `torch` environment and downloading the `IMDB` dataset from the `torchtext.data.Dataset` class. The `torchtext` dataset is preprocessed into a into a collection of lists of tokens."
      ]
    },
    {
      "cell_type": "code",
      "execution_count": 1,
      "metadata": {
        "colab": {
          "base_uri": "https://localhost:8080/"
        },
        "id": "6L_KGaQzwmgG",
        "outputId": "b566d058-d0ab-4754-f25a-413768ed3106"
      },
      "outputs": [
        {
          "output_type": "stream",
          "name": "stdout",
          "text": [
            "Torch Device: cuda\n"
          ]
        }
      ],
      "source": [
        "import torch\n",
        "from torch import mps\n",
        "\n",
        "import torchtext\n",
        "from torchtext import datasets\n",
        "\n",
        "from nltk.tokenize import word_tokenize\n",
        "import re\n",
        "\n",
        "# make torch deterministic for reproducibility\n",
        "seed = 576\n",
        "torch.manual_seed(seed)\n",
        "\n",
        "# set device\n",
        "device = torch.device(\"mps\" if torch.backends.mps.is_available() else \"cuda\" if torch.cuda.is_available() else \"cpu\")\n",
        "print(\"Torch Device:\", device)"
      ]
    },
    {
      "cell_type": "code",
      "execution_count": 224,
      "metadata": {
        "colab": {
          "base_uri": "https://localhost:8080/",
          "height": 725
        },
        "id": "S7R1JasZwmgG",
        "outputId": "30c39aa2-b1a9-4e60-d486-24bb7d98e3e9"
      },
      "outputs": [
        {
          "output_type": "error",
          "ename": "LookupError",
          "evalue": "ignored",
          "traceback": [
            "\u001b[0;31m---------------------------------------------------------------------------\u001b[0m",
            "\u001b[0;31mLookupError\u001b[0m                               Traceback (most recent call last)",
            "\u001b[0;32m<ipython-input-224-21f3729919e4>\u001b[0m in \u001b[0;36m<cell line: 15>\u001b[0;34m()\u001b[0m\n\u001b[1;32m     16\u001b[0m     \u001b[0mlowercase_review\u001b[0m \u001b[0;34m=\u001b[0m \u001b[0mreview\u001b[0m\u001b[0;34m.\u001b[0m\u001b[0mlower\u001b[0m\u001b[0;34m(\u001b[0m\u001b[0;34m)\u001b[0m\u001b[0;34m\u001b[0m\u001b[0;34m\u001b[0m\u001b[0m\n\u001b[1;32m     17\u001b[0m     \u001b[0mcleaned_review\u001b[0m \u001b[0;34m=\u001b[0m \u001b[0mre\u001b[0m\u001b[0;34m.\u001b[0m\u001b[0msub\u001b[0m\u001b[0;34m(\u001b[0m\u001b[0;34mr'[^A-Za-z0-9\\s]+'\u001b[0m\u001b[0;34m,\u001b[0m \u001b[0;34m''\u001b[0m\u001b[0;34m,\u001b[0m \u001b[0mlowercase_review\u001b[0m\u001b[0;34m.\u001b[0m\u001b[0mreplace\u001b[0m\u001b[0;34m(\u001b[0m\u001b[0;34m'<br />'\u001b[0m\u001b[0;34m,\u001b[0m \u001b[0;34m' '\u001b[0m\u001b[0;34m)\u001b[0m\u001b[0;34m)\u001b[0m\u001b[0;34m\u001b[0m\u001b[0;34m\u001b[0m\u001b[0m\n\u001b[0;32m---> 18\u001b[0;31m     \u001b[0mtokenized_reviews\u001b[0m\u001b[0;34m.\u001b[0m\u001b[0mappend\u001b[0m\u001b[0;34m(\u001b[0m\u001b[0mword_tokenize\u001b[0m\u001b[0;34m(\u001b[0m\u001b[0mcleaned_review\u001b[0m\u001b[0;34m)\u001b[0m\u001b[0;34m)\u001b[0m\u001b[0;34m\u001b[0m\u001b[0;34m\u001b[0m\u001b[0m\n\u001b[0m",
            "\u001b[0;32m/usr/local/lib/python3.10/dist-packages/nltk/tokenize/__init__.py\u001b[0m in \u001b[0;36mword_tokenize\u001b[0;34m(text, language, preserve_line)\u001b[0m\n\u001b[1;32m    127\u001b[0m     \u001b[0;34m:\u001b[0m\u001b[0mtype\u001b[0m \u001b[0mpreserve_line\u001b[0m\u001b[0;34m:\u001b[0m \u001b[0mbool\u001b[0m\u001b[0;34m\u001b[0m\u001b[0;34m\u001b[0m\u001b[0m\n\u001b[1;32m    128\u001b[0m     \"\"\"\n\u001b[0;32m--> 129\u001b[0;31m     \u001b[0msentences\u001b[0m \u001b[0;34m=\u001b[0m \u001b[0;34m[\u001b[0m\u001b[0mtext\u001b[0m\u001b[0;34m]\u001b[0m \u001b[0;32mif\u001b[0m \u001b[0mpreserve_line\u001b[0m \u001b[0;32melse\u001b[0m \u001b[0msent_tokenize\u001b[0m\u001b[0;34m(\u001b[0m\u001b[0mtext\u001b[0m\u001b[0;34m,\u001b[0m \u001b[0mlanguage\u001b[0m\u001b[0;34m)\u001b[0m\u001b[0;34m\u001b[0m\u001b[0;34m\u001b[0m\u001b[0m\n\u001b[0m\u001b[1;32m    130\u001b[0m     return [\n\u001b[1;32m    131\u001b[0m         \u001b[0mtoken\u001b[0m \u001b[0;32mfor\u001b[0m \u001b[0msent\u001b[0m \u001b[0;32min\u001b[0m \u001b[0msentences\u001b[0m \u001b[0;32mfor\u001b[0m \u001b[0mtoken\u001b[0m \u001b[0;32min\u001b[0m \u001b[0m_treebank_word_tokenizer\u001b[0m\u001b[0;34m.\u001b[0m\u001b[0mtokenize\u001b[0m\u001b[0;34m(\u001b[0m\u001b[0msent\u001b[0m\u001b[0;34m)\u001b[0m\u001b[0;34m\u001b[0m\u001b[0;34m\u001b[0m\u001b[0m\n",
            "\u001b[0;32m/usr/local/lib/python3.10/dist-packages/nltk/tokenize/__init__.py\u001b[0m in \u001b[0;36msent_tokenize\u001b[0;34m(text, language)\u001b[0m\n\u001b[1;32m    104\u001b[0m     \u001b[0;34m:\u001b[0m\u001b[0mparam\u001b[0m \u001b[0mlanguage\u001b[0m\u001b[0;34m:\u001b[0m \u001b[0mthe\u001b[0m \u001b[0mmodel\u001b[0m \u001b[0mname\u001b[0m \u001b[0;32min\u001b[0m \u001b[0mthe\u001b[0m \u001b[0mPunkt\u001b[0m \u001b[0mcorpus\u001b[0m\u001b[0;34m\u001b[0m\u001b[0;34m\u001b[0m\u001b[0m\n\u001b[1;32m    105\u001b[0m     \"\"\"\n\u001b[0;32m--> 106\u001b[0;31m     \u001b[0mtokenizer\u001b[0m \u001b[0;34m=\u001b[0m \u001b[0mload\u001b[0m\u001b[0;34m(\u001b[0m\u001b[0;34mf\"tokenizers/punkt/{language}.pickle\"\u001b[0m\u001b[0;34m)\u001b[0m\u001b[0;34m\u001b[0m\u001b[0;34m\u001b[0m\u001b[0m\n\u001b[0m\u001b[1;32m    107\u001b[0m     \u001b[0;32mreturn\u001b[0m \u001b[0mtokenizer\u001b[0m\u001b[0;34m.\u001b[0m\u001b[0mtokenize\u001b[0m\u001b[0;34m(\u001b[0m\u001b[0mtext\u001b[0m\u001b[0;34m)\u001b[0m\u001b[0;34m\u001b[0m\u001b[0;34m\u001b[0m\u001b[0m\n\u001b[1;32m    108\u001b[0m \u001b[0;34m\u001b[0m\u001b[0m\n",
            "\u001b[0;32m/usr/local/lib/python3.10/dist-packages/nltk/data.py\u001b[0m in \u001b[0;36mload\u001b[0;34m(resource_url, format, cache, verbose, logic_parser, fstruct_reader, encoding)\u001b[0m\n\u001b[1;32m    748\u001b[0m \u001b[0;34m\u001b[0m\u001b[0m\n\u001b[1;32m    749\u001b[0m     \u001b[0;31m# Load the resource.\u001b[0m\u001b[0;34m\u001b[0m\u001b[0;34m\u001b[0m\u001b[0m\n\u001b[0;32m--> 750\u001b[0;31m     \u001b[0mopened_resource\u001b[0m \u001b[0;34m=\u001b[0m \u001b[0m_open\u001b[0m\u001b[0;34m(\u001b[0m\u001b[0mresource_url\u001b[0m\u001b[0;34m)\u001b[0m\u001b[0;34m\u001b[0m\u001b[0;34m\u001b[0m\u001b[0m\n\u001b[0m\u001b[1;32m    751\u001b[0m \u001b[0;34m\u001b[0m\u001b[0m\n\u001b[1;32m    752\u001b[0m     \u001b[0;32mif\u001b[0m \u001b[0mformat\u001b[0m \u001b[0;34m==\u001b[0m \u001b[0;34m\"raw\"\u001b[0m\u001b[0;34m:\u001b[0m\u001b[0;34m\u001b[0m\u001b[0;34m\u001b[0m\u001b[0m\n",
            "\u001b[0;32m/usr/local/lib/python3.10/dist-packages/nltk/data.py\u001b[0m in \u001b[0;36m_open\u001b[0;34m(resource_url)\u001b[0m\n\u001b[1;32m    874\u001b[0m \u001b[0;34m\u001b[0m\u001b[0m\n\u001b[1;32m    875\u001b[0m     \u001b[0;32mif\u001b[0m \u001b[0mprotocol\u001b[0m \u001b[0;32mis\u001b[0m \u001b[0;32mNone\u001b[0m \u001b[0;32mor\u001b[0m \u001b[0mprotocol\u001b[0m\u001b[0;34m.\u001b[0m\u001b[0mlower\u001b[0m\u001b[0;34m(\u001b[0m\u001b[0;34m)\u001b[0m \u001b[0;34m==\u001b[0m \u001b[0;34m\"nltk\"\u001b[0m\u001b[0;34m:\u001b[0m\u001b[0;34m\u001b[0m\u001b[0;34m\u001b[0m\u001b[0m\n\u001b[0;32m--> 876\u001b[0;31m         \u001b[0;32mreturn\u001b[0m \u001b[0mfind\u001b[0m\u001b[0;34m(\u001b[0m\u001b[0mpath_\u001b[0m\u001b[0;34m,\u001b[0m \u001b[0mpath\u001b[0m \u001b[0;34m+\u001b[0m \u001b[0;34m[\u001b[0m\u001b[0;34m\"\"\u001b[0m\u001b[0;34m]\u001b[0m\u001b[0;34m)\u001b[0m\u001b[0;34m.\u001b[0m\u001b[0mopen\u001b[0m\u001b[0;34m(\u001b[0m\u001b[0;34m)\u001b[0m\u001b[0;34m\u001b[0m\u001b[0;34m\u001b[0m\u001b[0m\n\u001b[0m\u001b[1;32m    877\u001b[0m     \u001b[0;32melif\u001b[0m \u001b[0mprotocol\u001b[0m\u001b[0;34m.\u001b[0m\u001b[0mlower\u001b[0m\u001b[0;34m(\u001b[0m\u001b[0;34m)\u001b[0m \u001b[0;34m==\u001b[0m \u001b[0;34m\"file\"\u001b[0m\u001b[0;34m:\u001b[0m\u001b[0;34m\u001b[0m\u001b[0;34m\u001b[0m\u001b[0m\n\u001b[1;32m    878\u001b[0m         \u001b[0;31m# urllib might not use mode='rb', so handle this one ourselves:\u001b[0m\u001b[0;34m\u001b[0m\u001b[0;34m\u001b[0m\u001b[0m\n",
            "\u001b[0;32m/usr/local/lib/python3.10/dist-packages/nltk/data.py\u001b[0m in \u001b[0;36mfind\u001b[0;34m(resource_name, paths)\u001b[0m\n\u001b[1;32m    581\u001b[0m     \u001b[0msep\u001b[0m \u001b[0;34m=\u001b[0m \u001b[0;34m\"*\"\u001b[0m \u001b[0;34m*\u001b[0m \u001b[0;36m70\u001b[0m\u001b[0;34m\u001b[0m\u001b[0;34m\u001b[0m\u001b[0m\n\u001b[1;32m    582\u001b[0m     \u001b[0mresource_not_found\u001b[0m \u001b[0;34m=\u001b[0m \u001b[0;34mf\"\\n{sep}\\n{msg}\\n{sep}\\n\"\u001b[0m\u001b[0;34m\u001b[0m\u001b[0;34m\u001b[0m\u001b[0m\n\u001b[0;32m--> 583\u001b[0;31m     \u001b[0;32mraise\u001b[0m \u001b[0mLookupError\u001b[0m\u001b[0;34m(\u001b[0m\u001b[0mresource_not_found\u001b[0m\u001b[0;34m)\u001b[0m\u001b[0;34m\u001b[0m\u001b[0;34m\u001b[0m\u001b[0m\n\u001b[0m\u001b[1;32m    584\u001b[0m \u001b[0;34m\u001b[0m\u001b[0m\n\u001b[1;32m    585\u001b[0m \u001b[0;34m\u001b[0m\u001b[0m\n",
            "\u001b[0;31mLookupError\u001b[0m: \n**********************************************************************\n  Resource \u001b[93mpunkt\u001b[0m not found.\n  Please use the NLTK Downloader to obtain the resource:\n\n  \u001b[31m>>> import nltk\n  >>> nltk.download('punkt')\n  \u001b[0m\n  For more information see: https://www.nltk.org/data.html\n\n  Attempted to load \u001b[93mtokenizers/punkt/PY3/english.pickle\u001b[0m\n\n  Searched in:\n    - '/root/nltk_data'\n    - '/usr/nltk_data'\n    - '/usr/share/nltk_data'\n    - '/usr/lib/nltk_data'\n    - '/usr/share/nltk_data'\n    - '/usr/local/share/nltk_data'\n    - '/usr/lib/nltk_data'\n    - '/usr/local/lib/nltk_data'\n    - ''\n**********************************************************************\n"
          ]
        }
      ],
      "source": [
        "\n",
        "# train model on training split\n",
        "train_iter = datasets.IMDB(split=\"train\")\n",
        "\n",
        "# initialize a list to store reviews\n",
        "reviews = []\n",
        "\n",
        "# append each review\n",
        "for _, review in train_iter:\n",
        "    reviews.append(review)\n",
        "\n",
        "# initialize list to store tokenized reviews\n",
        "tokenized_reviews = []\n",
        "\n",
        "# preprocess and tokenize reviews\n",
        "for review in reviews:\n",
        "    lowercase_review = review.lower()\n",
        "    cleaned_review = re.sub(r'[^A-Za-z0-9\\s]+', '', lowercase_review.replace('<br />', ' '))\n",
        "    tokenized_reviews.append(word_tokenize(cleaned_review))"
      ]
    },
    {
      "cell_type": "markdown",
      "metadata": {
        "id": "rHwcY2uywmgG"
      },
      "source": [
        "## Markov (n-gram) Language Model"
      ]
    },
    {
      "cell_type": "markdown",
      "metadata": {
        "id": "PBr3ybo6wmgH"
      },
      "source": [
        "A _Markov (n-gram)_ language model is a purely statistical character-level model. The model is based on the assumption that the probability of the next word in a sequence is based on the history _h_ of the preceding words in the sequence. For a set number _n_ of immediately previous words (or tokens) in the sequence, this assumption can be expressed as:\n",
        "\n",
        "$$P(w|h)\\approx P(w_n|w_{1:n-1})$$\n",
        "\n",
        "A _bigram_ is specific _n-gram_ case (_n_ = 2) where the conditional probability of the next word in a sequence is dependent solely on the preceding word in the sequence\n",
        "\n",
        "$$P(w|h)\\approx P(w_n|w_{n-1})$$\n",
        "\n",
        "We can further generalize this propoerty to _trigrams_ (_n_ = 3) such that the conditional probability of the next word in a sequence is\n",
        "\n",
        "$$P(w|h)\\approx P(w_n|w_{n-2, n-1})$$\n",
        "\n",
        "Let us create a general python class `build_random_ngram_model` that replicates the above funtionality with the IMBD dataset. In order to reduce recursive, repeating predicitons, the `predic()` method introduces randomness to the model, using a weighted choice between all tokens $w_n$ that correspond to a certain context $w_{1:n-1}$. The method parameter `rand` allows us to select the top `rand` weighted words from the model."
      ]
    },
    {
      "cell_type": "code",
      "execution_count": 222,
      "metadata": {
        "id": "ahhLQCfKwmgH"
      },
      "outputs": [],
      "source": [
        "from nltk.util import ngrams\n",
        "from tqdm import tqdm\n",
        "import random\n",
        "\n",
        "class build_random_ngram_model():\n",
        "\n",
        "    '''\n",
        "    This class builds a Markov (n-gram) language model.\n",
        "    '''\n",
        "    def __init__(self, tokenized_reviews: list, n: int = 2):\n",
        "        self.n = n\n",
        "        self.model = self._build_model(tokenized_reviews, n=n)\n",
        "\n",
        "    def _build_model(self, tokenized_reviews, n):\n",
        "\n",
        "        # empty return model\n",
        "        model = {}\n",
        "\n",
        "        # build model\n",
        "        print(\"builing model...\")\n",
        "        for review in tqdm(tokenized_reviews):\n",
        "\n",
        "            # build n-grams from reviews\n",
        "            for ngram in ngrams(review, n, pad_right=True, pad_left=True):\n",
        "                context = tuple(ngram[:-1])\n",
        "                target = ngram[-1]\n",
        "\n",
        "                # check if context is already in the model\n",
        "                if context not in model:\n",
        "                    model[context] = {}\n",
        "\n",
        "                # get frequency counts of co-occurrence\n",
        "                if target not in model[context]:\n",
        "                    model[context][target] = 1\n",
        "                else:\n",
        "                    model[context][target] += 1\n",
        "\n",
        "        # convert frequency counts to probabilities\n",
        "        for context in model:\n",
        "            count = float(sum(model[context].values()))\n",
        "            for target in model[context]:\n",
        "                model[context][target] /= count\n",
        "\n",
        "        # return trained model\n",
        "        print(\"done!\")\n",
        "        return model\n",
        "\n",
        "    def get_model(self) -> dict:\n",
        "\n",
        "        '''\n",
        "        Returns model stored as dict.\n",
        "        '''\n",
        "\n",
        "        return self.model\n",
        "\n",
        "    def predict(self, words: str, rand: int = None) -> str:\n",
        "\n",
        "        '''\n",
        "        This function returns the next word given the input string.\n",
        "        Randomly select out of the top rand probabilities given a certain context.\n",
        "        '''\n",
        "\n",
        "        # get last n-1 words in string\n",
        "        key = tuple(words.split())[1-self.n:]\n",
        "\n",
        "        # get top keys in dictionary\n",
        "        top_keys = sorted(self.model[key], key = self.model[key].get, reverse=True)[:rand]\n",
        "\n",
        "        # get probs of top keys\n",
        "        top_values = [self.model[key][top_key] for top_key in top_keys]\n",
        "\n",
        "        # select random key\n",
        "        selected_key = random.choices(top_keys, weights = top_values, k=1)[0]\n",
        "\n",
        "        return selected_key\n",
        "\n",
        "    def complete(self, words: str, rand: int = None) -> str:\n",
        "\n",
        "        '''\n",
        "        This function returns the entire string with the predicted next word\n",
        "        '''\n",
        "\n",
        "        next_word = self.predict(words, rand = rand)\n",
        "\n",
        "        # if context does not exist in model dict return original words\n",
        "        if next_word is not None:\n",
        "            completed_string = words+\" \"+next_word\n",
        "        else:\n",
        "            completed_string = words\n",
        "\n",
        "        return completed_string\n",
        "\n",
        "    def review(self, words: str, l = 10, rand: int = None) -> str:\n",
        "\n",
        "        '''\n",
        "        This function completes a review for an additional l words.\n",
        "        '''\n",
        "\n",
        "        working_words = words\n",
        "\n",
        "        i = 0\n",
        "\n",
        "        while i < l:\n",
        "            working_words = self.complete(working_words, rand = rand)\n",
        "            i += 1\n",
        "\n",
        "        return working_words"
      ]
    },
    {
      "cell_type": "markdown",
      "metadata": {
        "id": "WukicHnCwmgH"
      },
      "source": [
        "We can now build a trigram language model and generate random reviews from the input string `My favorite movie`."
      ]
    },
    {
      "cell_type": "code",
      "execution_count": 223,
      "metadata": {
        "colab": {
          "base_uri": "https://localhost:8080/",
          "height": 242
        },
        "id": "cGKiwSHcwmgH",
        "outputId": "b515f47e-0c9e-405a-ca9d-6a5c308c7925"
      },
      "outputs": [
        {
          "output_type": "error",
          "ename": "NameError",
          "evalue": "ignored",
          "traceback": [
            "\u001b[0;31m---------------------------------------------------------------------------\u001b[0m",
            "\u001b[0;31mNameError\u001b[0m                                 Traceback (most recent call last)",
            "\u001b[0;32m<ipython-input-223-abcf2faf6538>\u001b[0m in \u001b[0;36m<cell line: 1>\u001b[0;34m()\u001b[0m\n\u001b[0;32m----> 1\u001b[0;31m \u001b[0mtrigram_model\u001b[0m \u001b[0;34m=\u001b[0m \u001b[0mbuild_random_ngram_model\u001b[0m\u001b[0;34m(\u001b[0m\u001b[0mtokenized_reviews\u001b[0m\u001b[0;34m,\u001b[0m \u001b[0;36m3\u001b[0m\u001b[0;34m)\u001b[0m\u001b[0;34m\u001b[0m\u001b[0;34m\u001b[0m\u001b[0m\n\u001b[0m\u001b[1;32m      2\u001b[0m \u001b[0;34m\u001b[0m\u001b[0m\n\u001b[1;32m      3\u001b[0m \u001b[0mi\u001b[0m \u001b[0;34m=\u001b[0m \u001b[0;36m0\u001b[0m\u001b[0;34m\u001b[0m\u001b[0;34m\u001b[0m\u001b[0m\n\u001b[1;32m      4\u001b[0m \u001b[0;32mwhile\u001b[0m \u001b[0mi\u001b[0m \u001b[0;34m<\u001b[0m \u001b[0;36m5\u001b[0m\u001b[0;34m:\u001b[0m\u001b[0;34m\u001b[0m\u001b[0;34m\u001b[0m\u001b[0m\n\u001b[1;32m      5\u001b[0m     \u001b[0mrandom_review\u001b[0m \u001b[0;34m=\u001b[0m \u001b[0mtrigram_model\u001b[0m\u001b[0;34m.\u001b[0m\u001b[0mreview\u001b[0m\u001b[0;34m(\u001b[0m\u001b[0;34m\"My favorite movie\"\u001b[0m\u001b[0;34m,\u001b[0m \u001b[0;36m17\u001b[0m\u001b[0;34m)\u001b[0m\u001b[0;34m\u001b[0m\u001b[0;34m\u001b[0m\u001b[0m\n",
            "\u001b[0;31mNameError\u001b[0m: name 'tokenized_reviews' is not defined"
          ]
        }
      ],
      "source": [
        "trigram_model = build_random_ngram_model(tokenized_reviews, 3)\n",
        "\n",
        "i = 0\n",
        "while i < 5:\n",
        "    random_review = trigram_model.review(\"My favorite movie\", 17)\n",
        "    print(random_review)\n",
        "    i += 1"
      ]
    },
    {
      "cell_type": "markdown",
      "metadata": {
        "id": "WEbZAa21wmgH"
      },
      "source": [
        "## LSTM Based Language Model"
      ]
    },
    {
      "cell_type": "markdown",
      "metadata": {
        "id": "H9tsMapywmgI"
      },
      "source": [
        "For the LSTM based language model we shall be following along with [Seq2Seq_LSTM_Simple_Sentiment_Analysis.ipynb](https://github.com/thejat/dl-notebooks/blob/master/examples/rnn/Seq2Seq_LSTM_Simple_Sentiment_Analysis.ipynb) and making modifications as neccessary.\n",
        "\n",
        "First we download the `\"train\"` and `\"test\"` splits from the `IMDB` dataset and check the size of each split."
      ]
    },
    {
      "cell_type": "code",
      "execution_count": 2,
      "metadata": {
        "colab": {
          "base_uri": "https://localhost:8080/"
        },
        "id": "cKXCW4ODwmgI",
        "outputId": "fe41c51e-78c8-4c0d-8e10-142d797718d6"
      },
      "outputs": [
        {
          "output_type": "stream",
          "name": "stdout",
          "text": [
            "Train dataset size:  25000\n",
            "Test dataset size:  25000\n"
          ]
        }
      ],
      "source": [
        "train_dataset_raw = datasets.IMDB(split=\"train\")\n",
        "test_dataset_raw = datasets.IMDB(split=\"test\")\n",
        "\n",
        "print(\"Train dataset size: \",len(list(train_dataset_raw)))\n",
        "print(\"Test dataset size: \",len(list(test_dataset_raw)))"
      ]
    },
    {
      "cell_type": "markdown",
      "metadata": {
        "id": "f9kGMzkpwmgI"
      },
      "source": [
        "### Data Preprocessing Pipeline\n",
        "We next construct utilities to aid in the preprocessing of the `IMDB` dataset. Since we are creating a language model, our preprocessing pipeline must result in the generation of an _input sequence_ and _target sequence_. The _input sequence_ and _target sequence_ differ only by one \"time-step\".\n",
        "\n",
        "$$X_{Raw} =[x_1, x_2, \\ldots, x_T]$$\n",
        "$$X_{Input} = [x_1, x_2, \\ldots, x_{T-1}]$$\n",
        "$$X_{Target} = [x_2, x_3, \\ldots, x_{T}]$$\n",
        "\n",
        "The first utility is the `tokenizer()`, that parses through string instances in the datasets and converts to tokens."
      ]
    },
    {
      "cell_type": "code",
      "execution_count": 3,
      "metadata": {
        "id": "ShicIa1VwmgJ"
      },
      "outputs": [],
      "source": [
        "def tokenizer(text):\n",
        "    # step 1. remove HTML tags. they are not helpful in understanding the sentiments of a review\n",
        "    # step 2: use lowercase for all text to keep symmetry\n",
        "    # step 3: extract emoticons. keep them as they are important sentiment signals\n",
        "    # step 4: remove punctuation marks\n",
        "    # step 5: put back emoticons\n",
        "    # step 6: generate word tokens\n",
        "    text = re.sub(\"<[^>]*>\", \"\", text)\n",
        "    text = text.lower()\n",
        "    emoticons = re.findall(\"(?::|;|=)(?:-)?(?:\\)|\\(|D|P)\", text)\n",
        "    text = re.sub(\"[\\W]+\", \" \", text)\n",
        "    text = text + \" \".join(emoticons).replace(\"-\", \"\")\n",
        "    tokenized = text.split()\n",
        "    return tokenized"
      ]
    },
    {
      "cell_type": "markdown",
      "metadata": {
        "id": "wHrhjm2fwmgJ"
      },
      "source": [
        "We next create a utility to obtain `token_counts` from the dataset."
      ]
    },
    {
      "cell_type": "code",
      "execution_count": 4,
      "metadata": {
        "colab": {
          "base_uri": "https://localhost:8080/"
        },
        "id": "TKbTqwp5wmgJ",
        "outputId": "6cac656f-8709-4d4d-c82b-dfbcb2f76139"
      },
      "outputs": [
        {
          "output_type": "stream",
          "name": "stdout",
          "text": [
            "IMDB train dataset vocab size: 75977\n"
          ]
        }
      ],
      "source": [
        "from collections import Counter\n",
        "\n",
        "token_counts = Counter()\n",
        "\n",
        "for _, line in iter(train_dataset_raw):\n",
        "    tokens = tokenizer(line)\n",
        "    token_counts.update(tokens)\n",
        "\n",
        "print('IMDB train dataset vocab size:', len(token_counts))"
      ]
    },
    {
      "cell_type": "markdown",
      "metadata": {
        "id": "sLsWbXdBwmgJ"
      },
      "source": [
        "The tokens are then sorted by frequency and converted to to integers using the `vocab` object. For the sake of computational complexity the first 500 words of the ordered dictionary by freqeuency are used for the model vocabulary."
      ]
    },
    {
      "cell_type": "code",
      "execution_count": 5,
      "metadata": {
        "colab": {
          "base_uri": "https://localhost:8080/"
        },
        "id": "-SFK-YFRwmgK",
        "outputId": "8c7aff00-9122-46d9-93ea-827af3803370"
      },
      "outputs": [
        {
          "output_type": "stream",
          "name": "stdout",
          "text": [
            "this  -->  11\n",
            "is  -->  7\n",
            "an  -->  35\n",
            "example  -->  462\n"
          ]
        }
      ],
      "source": [
        "from collections import OrderedDict\n",
        "from torchtext.vocab import vocab\n",
        "\n",
        "sorted_by_freq_tuples = sorted(token_counts.items(), key=lambda x: x[1], reverse=True)\n",
        "ordered_dict = OrderedDict(sorted_by_freq_tuples)\n",
        "\n",
        "reduced_ordered_dict = OrderedDict()\n",
        "\n",
        "count = 0\n",
        "for key, value in ordered_dict.items():\n",
        "    reduced_ordered_dict[key] = value\n",
        "    count += 1\n",
        "\n",
        "    if count == 1000:\n",
        "        break\n",
        "\n",
        "vb = vocab(reduced_ordered_dict)\n",
        "\n",
        "vb.insert_token(\"<pad>\", 0)  # special token for padding\n",
        "vb.insert_token(\"<unk>\", 1)  # special token for unknown words\n",
        "vb.set_default_index(1)\n",
        "\n",
        "# print some token indexes from vocab\n",
        "for token in [\"this\", \"is\", \"an\", \"example\"]:\n",
        "    print(token, \" --> \", vb[token])"
      ]
    },
    {
      "cell_type": "markdown",
      "metadata": {
        "id": "J7HL7e6twmgK"
      },
      "source": [
        "Inline lambda functions are then used for text processing. This is the first major deviation from the source code; to create _input sequences_ and _target sequences_ from the raw dataset."
      ]
    },
    {
      "cell_type": "code",
      "execution_count": 6,
      "metadata": {
        "colab": {
          "base_uri": "https://localhost:8080/"
        },
        "id": "FMli58Z4wmgK",
        "outputId": "6a7ccdbd-a3ab-46b9-c47a-4f675e006b96"
      },
      "outputs": [
        {
          "output_type": "stream",
          "name": "stdout",
          "text": [
            "Example Sequences\n",
            "Sample Tokens: ['i', 'rented', 'i', 'am', 'curious', 'yellow']\n",
            "Input Sequence: [10, 1, 10, 244, 1]\n",
            "Target Sequence: [1, 10, 244, 1, 1] \n",
            "\n",
            "Sample Tokens: ['i', 'am', 'curious', 'yellow', 'is', 'a']\n",
            "Input Sequence: [10, 244, 1, 1, 7]\n",
            "Target Sequence: [244, 1, 1, 7, 4] \n",
            "\n",
            "Sample Tokens: ['if', 'only', 'to', 'avoid', 'making', 'this']\n",
            "Input Sequence: [46, 64, 6, 789, 229]\n",
            "Target Sequence: [64, 6, 789, 229, 11] \n",
            "\n",
            "Sample Tokens: ['this', 'film', 'was', 'probably', 'inspired', 'by']\n",
            "Input Sequence: [11, 20, 14, 240, 1]\n",
            "Target Sequence: [20, 14, 240, 1, 34] \n",
            "\n"
          ]
        }
      ],
      "source": [
        "input_pipeline = lambda x: [vb[token] for token in tokenizer(x)][:-1]\n",
        "target_pipline = lambda x: [vb[token] for token in tokenizer(x)][1:]\n",
        "\n",
        "length = 5\n",
        "print(\"Example Sequences\")\n",
        "for i in list(train_dataset_raw)[:4]:\n",
        "    example_tokens = tokenizer(i[1])[:length+1]\n",
        "    example_input = input_pipeline(i[1])[:length]\n",
        "    example_target = target_pipline(i[1])[:length]\n",
        "\n",
        "    print(f'Sample Tokens: {example_tokens}')\n",
        "    print(f'Input Sequence: {example_input}')\n",
        "    print(f'Target Sequence: {example_target}', \"\\n\")"
      ]
    },
    {
      "cell_type": "markdown",
      "metadata": {
        "id": "ejDoESUDwmgK"
      },
      "source": [
        "The preprocessing utilities will be applied at the batch level, as a `collate_fn` argument. The source code is modified to return the input and target sequences. Since these sequences are of the same length, we do not need to return length"
      ]
    },
    {
      "cell_type": "code",
      "execution_count": 7,
      "metadata": {
        "id": "H0v862hHwmgK"
      },
      "outputs": [],
      "source": [
        "import torch.nn as nn\n",
        "\n",
        "def collate_batch(batch):\n",
        "    input_list, target_list, = [], []\n",
        "\n",
        "    # iterate over all reviews in a batch\n",
        "    for _, _text in batch:\n",
        "\n",
        "        # input preprocessing\n",
        "        processed_input = torch.tensor(input_pipeline(_text), dtype=torch.int64)\n",
        "\n",
        "        # target preprocessing\n",
        "        processed_target = torch.tensor(input_pipeline(_text), dtype=torch.int64)\n",
        "\n",
        "\n",
        "        # store the processed text in input and target lists\n",
        "        input_list.append(processed_input)\n",
        "        target_list.append(processed_target)\n",
        "\n",
        "    # pad the processed reviews to make their lengths consistant\n",
        "    padded_input_list = nn.utils.rnn.pad_sequence(\n",
        "        input_list, batch_first=True)\n",
        "\n",
        "    padded_target_list = nn.utils.rnn.pad_sequence(\n",
        "        target_list, batch_first=True\n",
        "    )\n",
        "\n",
        "    # return\n",
        "    # 1. a list of processed and padded input texts\n",
        "    # 2. a list of processed and padded target texts\n",
        "    # 3. a list of review text original lengths (before padding)\n",
        "    return padded_input_list.to(device), padded_target_list.to(device)"
      ]
    },
    {
      "cell_type": "markdown",
      "metadata": {
        "id": "E1K4h4pKwmgK"
      },
      "source": [
        "### Batching the Training, Validation, and Test Datasets\n",
        "The `IMDB` Datasets are loaded into torch `DataLoader()` objects with the above `collate_batch()` function."
      ]
    },
    {
      "cell_type": "code",
      "execution_count": 8,
      "metadata": {
        "id": "J39b4RWcwmgL"
      },
      "outputs": [],
      "source": [
        "from torch.utils.data import DataLoader\n",
        "from torch.utils.data import Subset\n",
        "batch_size = 32\n",
        "\n",
        "train_dl = DataLoader(\n",
        "    train_dataset_raw, batch_size=batch_size, shuffle=True, collate_fn=collate_batch\n",
        ")\n",
        "valid_dl = DataLoader(\n",
        "    test_dataset_raw, batch_size=batch_size, shuffle=False, collate_fn=collate_batch\n",
        ")"
      ]
    },
    {
      "cell_type": "markdown",
      "metadata": {
        "id": "KIGy9elVwmgL"
      },
      "source": [
        "### RNN Model Configuration"
      ]
    },
    {
      "cell_type": "markdown",
      "metadata": {
        "id": "gmOSjaoDwmgL"
      },
      "source": [
        "We will now modify the source code's sentiment analysis `RNN` class for the purposes of language modeling. An overview of the architecture and design choices made to implement this are as follows:\n",
        "- An **Embedding layer** as as explained by the source code.\n",
        "- An **LSTM layer**  to capture long range dependencies and relationships in the text.\n",
        "- A **Fully Connected layer** to obtain `logits`, the raw unnormalized predictions for each token at each \"time step\" in the model."
      ]
    },
    {
      "cell_type": "code",
      "execution_count": 10,
      "metadata": {
        "colab": {
          "base_uri": "https://localhost:8080/"
        },
        "id": "7JC4_rFTwmgL",
        "outputId": "a15c959c-967f-465d-916e-a44d4e101c99"
      },
      "outputs": [
        {
          "output_type": "stream",
          "name": "stdout",
          "text": [
            "Number of parameters: 4124232\n"
          ]
        }
      ],
      "source": [
        "# create langauge model class\n",
        "class RNN_Language(nn.Module):\n",
        "    def __init__(self, vocab_size, embed_dim):\n",
        "        super().__init__()\n",
        "        self.embedding = nn.Embedding(vocab_size, embed_dim, padding_idx=0)\n",
        "        self.rnn = nn.LSTM(embed_dim, vocab_size)#, batch_first=True)\n",
        "\n",
        "    def forward(self, input_sequence):\n",
        "        out = self.embedding(input_sequence)\n",
        "        out.size()\n",
        "        out, _ = self.rnn(out)\n",
        "        out.view(-1, vocab_size)\n",
        "        return out\n",
        "\n",
        "# instantiate a model\n",
        "vocab_size = len(vb)\n",
        "embed_dim = 20\n",
        "\n",
        "torch.manual_seed(576)\n",
        "model = RNN_Language(vocab_size, embed_dim)\n",
        "model = model.to(device)\n",
        "\n",
        "total_params = sum(p.numel() for p in model.parameters())\n",
        "print(f\"Number of parameters: {total_params}\")"
      ]
    },
    {
      "cell_type": "markdown",
      "metadata": {
        "id": "rUUITVWuwmgL"
      },
      "source": [
        "### Loss Function, Optimizer and Training Loop"
      ]
    },
    {
      "cell_type": "markdown",
      "metadata": {
        "id": "aRBt6owewmgM"
      },
      "source": [
        "We will utilize `CrossEntropyLoss()` as our loss function and the `Adam()` algorithm for optimization."
      ]
    },
    {
      "cell_type": "code",
      "execution_count": 11,
      "metadata": {
        "id": "ZhU3s-mHwmgM"
      },
      "outputs": [],
      "source": [
        "from tqdm import tqdm\n",
        "\n",
        "criterion = nn.CrossEntropyLoss()\n",
        "criterion.to(device)\n",
        "\n",
        "optimizer = torch.optim.Adam(model.parameters(), lr = 1e-3)\n",
        "\n",
        "model.to(device)\n",
        "\n",
        "num_epochs = 5\n",
        "\n",
        "# training loop\n",
        "\n",
        "def train(model, train_dl, valid_dl):\n",
        "\n",
        "    train_history, valid_history = [], []\n",
        "\n",
        "    for epoch in range(num_epochs):\n",
        "\n",
        "        print(f\"Epopch: {epoch}\")\n",
        "\n",
        "        model.train()\n",
        "        total_loss, valid_loss = 0, 0\n",
        "\n",
        "        # training\n",
        "        for input_batch, target_batch in tqdm(train_dl):\n",
        "            with torch.set_grad_enabled(True):\n",
        "                # forward pass\n",
        "                optimizer.zero_grad()\n",
        "                logits = model(input_batch)\n",
        "                loss = criterion(logits.view(-1, vocab_size), target_batch.view(-1))\n",
        "\n",
        "                # backwards pass\n",
        "                loss.backward()\n",
        "                optimizer.step()\n",
        "\n",
        "            total_loss += loss.item() * batch_size\n",
        "\n",
        "        avg_loss = total_loss / 25_000\n",
        "        train_history.append(avg_loss)\n",
        "        print(f\"Training loss:\\t{avg_loss}\")\n",
        "\n",
        "        # validation\n",
        "        for input_batch, target_batch in valid_dl:\n",
        "            with torch.no_grad():\n",
        "                logits = model(input_batch)\n",
        "                loss = criterion(logits.view(-1, vocab_size), target_batch.view(-1))\n",
        "\n",
        "            valid_loss += loss.item() * batch_size\n",
        "\n",
        "        avg_valid_loss = valid_loss / 25_000\n",
        "        valid_history.append(valid_loss)\n",
        "        print(f\"Validation Loss\\t{avg_valid_loss}\\n\")\n",
        "\n",
        "\n",
        "    return train_history, valid_history\n",
        "\n",
        ""
      ]
    },
    {
      "cell_type": "code",
      "execution_count": 12,
      "metadata": {
        "colab": {
          "base_uri": "https://localhost:8080/",
          "height": 351
        },
        "id": "Mi3G7B6FwmgM",
        "outputId": "96eb859a-8738-46d7-dfd0-0c66a4bcda0e"
      },
      "outputs": [
        {
          "output_type": "stream",
          "name": "stdout",
          "text": [
            "Epopch: 0\n"
          ]
        },
        {
          "output_type": "stream",
          "name": "stderr",
          "text": [
            "393it [01:28,  4.42it/s]\n"
          ]
        },
        {
          "output_type": "error",
          "ename": "KeyboardInterrupt",
          "evalue": "ignored",
          "traceback": [
            "\u001b[0;31m---------------------------------------------------------------------------\u001b[0m",
            "\u001b[0;31mKeyboardInterrupt\u001b[0m                         Traceback (most recent call last)",
            "\u001b[0;32m<ipython-input-12-868d2be963e2>\u001b[0m in \u001b[0;36m<cell line: 1>\u001b[0;34m()\u001b[0m\n\u001b[0;32m----> 1\u001b[0;31m \u001b[0mtrain_history\u001b[0m\u001b[0;34m,\u001b[0m \u001b[0mvalid_history\u001b[0m \u001b[0;34m=\u001b[0m \u001b[0mtrain\u001b[0m\u001b[0;34m(\u001b[0m\u001b[0mmodel\u001b[0m\u001b[0;34m,\u001b[0m \u001b[0mtrain_dl\u001b[0m\u001b[0;34m,\u001b[0m \u001b[0mvalid_dl\u001b[0m\u001b[0;34m)\u001b[0m\u001b[0;34m\u001b[0m\u001b[0;34m\u001b[0m\u001b[0m\n\u001b[0m",
            "\u001b[0;32m<ipython-input-11-1fd05648ee88>\u001b[0m in \u001b[0;36mtrain\u001b[0;34m(model, train_dl, valid_dl)\u001b[0m\n\u001b[1;32m     24\u001b[0m \u001b[0;34m\u001b[0m\u001b[0m\n\u001b[1;32m     25\u001b[0m         \u001b[0;31m# training\u001b[0m\u001b[0;34m\u001b[0m\u001b[0;34m\u001b[0m\u001b[0m\n\u001b[0;32m---> 26\u001b[0;31m         \u001b[0;32mfor\u001b[0m \u001b[0minput_batch\u001b[0m\u001b[0;34m,\u001b[0m \u001b[0mtarget_batch\u001b[0m \u001b[0;32min\u001b[0m \u001b[0mtqdm\u001b[0m\u001b[0;34m(\u001b[0m\u001b[0mtrain_dl\u001b[0m\u001b[0;34m)\u001b[0m\u001b[0;34m:\u001b[0m\u001b[0;34m\u001b[0m\u001b[0;34m\u001b[0m\u001b[0m\n\u001b[0m\u001b[1;32m     27\u001b[0m             \u001b[0;32mwith\u001b[0m \u001b[0mtorch\u001b[0m\u001b[0;34m.\u001b[0m\u001b[0mset_grad_enabled\u001b[0m\u001b[0;34m(\u001b[0m\u001b[0;32mTrue\u001b[0m\u001b[0;34m)\u001b[0m\u001b[0;34m:\u001b[0m\u001b[0;34m\u001b[0m\u001b[0;34m\u001b[0m\u001b[0m\n\u001b[1;32m     28\u001b[0m                 \u001b[0;31m# forward pass\u001b[0m\u001b[0;34m\u001b[0m\u001b[0;34m\u001b[0m\u001b[0m\n",
            "\u001b[0;32m/usr/local/lib/python3.10/dist-packages/tqdm/std.py\u001b[0m in \u001b[0;36m__iter__\u001b[0;34m(self)\u001b[0m\n\u001b[1;32m   1180\u001b[0m \u001b[0;34m\u001b[0m\u001b[0m\n\u001b[1;32m   1181\u001b[0m         \u001b[0;32mtry\u001b[0m\u001b[0;34m:\u001b[0m\u001b[0;34m\u001b[0m\u001b[0;34m\u001b[0m\u001b[0m\n\u001b[0;32m-> 1182\u001b[0;31m             \u001b[0;32mfor\u001b[0m \u001b[0mobj\u001b[0m \u001b[0;32min\u001b[0m \u001b[0miterable\u001b[0m\u001b[0;34m:\u001b[0m\u001b[0;34m\u001b[0m\u001b[0;34m\u001b[0m\u001b[0m\n\u001b[0m\u001b[1;32m   1183\u001b[0m                 \u001b[0;32myield\u001b[0m \u001b[0mobj\u001b[0m\u001b[0;34m\u001b[0m\u001b[0;34m\u001b[0m\u001b[0m\n\u001b[1;32m   1184\u001b[0m                 \u001b[0;31m# Update and possibly print the progressbar.\u001b[0m\u001b[0;34m\u001b[0m\u001b[0;34m\u001b[0m\u001b[0m\n",
            "\u001b[0;32m/usr/local/lib/python3.10/dist-packages/torch/utils/data/dataloader.py\u001b[0m in \u001b[0;36m__next__\u001b[0;34m(self)\u001b[0m\n\u001b[1;32m    631\u001b[0m                 \u001b[0;31m# TODO(https://github.com/pytorch/pytorch/issues/76750)\u001b[0m\u001b[0;34m\u001b[0m\u001b[0;34m\u001b[0m\u001b[0m\n\u001b[1;32m    632\u001b[0m                 \u001b[0mself\u001b[0m\u001b[0;34m.\u001b[0m\u001b[0m_reset\u001b[0m\u001b[0;34m(\u001b[0m\u001b[0;34m)\u001b[0m  \u001b[0;31m# type: ignore[call-arg]\u001b[0m\u001b[0;34m\u001b[0m\u001b[0;34m\u001b[0m\u001b[0m\n\u001b[0;32m--> 633\u001b[0;31m             \u001b[0mdata\u001b[0m \u001b[0;34m=\u001b[0m \u001b[0mself\u001b[0m\u001b[0;34m.\u001b[0m\u001b[0m_next_data\u001b[0m\u001b[0;34m(\u001b[0m\u001b[0;34m)\u001b[0m\u001b[0;34m\u001b[0m\u001b[0;34m\u001b[0m\u001b[0m\n\u001b[0m\u001b[1;32m    634\u001b[0m             \u001b[0mself\u001b[0m\u001b[0;34m.\u001b[0m\u001b[0m_num_yielded\u001b[0m \u001b[0;34m+=\u001b[0m \u001b[0;36m1\u001b[0m\u001b[0;34m\u001b[0m\u001b[0;34m\u001b[0m\u001b[0m\n\u001b[1;32m    635\u001b[0m             \u001b[0;32mif\u001b[0m \u001b[0mself\u001b[0m\u001b[0;34m.\u001b[0m\u001b[0m_dataset_kind\u001b[0m \u001b[0;34m==\u001b[0m \u001b[0m_DatasetKind\u001b[0m\u001b[0;34m.\u001b[0m\u001b[0mIterable\u001b[0m \u001b[0;32mand\u001b[0m\u001b[0;31m \u001b[0m\u001b[0;31m\\\u001b[0m\u001b[0;34m\u001b[0m\u001b[0;34m\u001b[0m\u001b[0m\n",
            "\u001b[0;32m/usr/local/lib/python3.10/dist-packages/torch/utils/data/dataloader.py\u001b[0m in \u001b[0;36m_next_data\u001b[0;34m(self)\u001b[0m\n\u001b[1;32m    675\u001b[0m     \u001b[0;32mdef\u001b[0m \u001b[0m_next_data\u001b[0m\u001b[0;34m(\u001b[0m\u001b[0mself\u001b[0m\u001b[0;34m)\u001b[0m\u001b[0;34m:\u001b[0m\u001b[0;34m\u001b[0m\u001b[0;34m\u001b[0m\u001b[0m\n\u001b[1;32m    676\u001b[0m         \u001b[0mindex\u001b[0m \u001b[0;34m=\u001b[0m \u001b[0mself\u001b[0m\u001b[0;34m.\u001b[0m\u001b[0m_next_index\u001b[0m\u001b[0;34m(\u001b[0m\u001b[0;34m)\u001b[0m  \u001b[0;31m# may raise StopIteration\u001b[0m\u001b[0;34m\u001b[0m\u001b[0;34m\u001b[0m\u001b[0m\n\u001b[0;32m--> 677\u001b[0;31m         \u001b[0mdata\u001b[0m \u001b[0;34m=\u001b[0m \u001b[0mself\u001b[0m\u001b[0;34m.\u001b[0m\u001b[0m_dataset_fetcher\u001b[0m\u001b[0;34m.\u001b[0m\u001b[0mfetch\u001b[0m\u001b[0;34m(\u001b[0m\u001b[0mindex\u001b[0m\u001b[0;34m)\u001b[0m  \u001b[0;31m# may raise StopIteration\u001b[0m\u001b[0;34m\u001b[0m\u001b[0;34m\u001b[0m\u001b[0m\n\u001b[0m\u001b[1;32m    678\u001b[0m         \u001b[0;32mif\u001b[0m \u001b[0mself\u001b[0m\u001b[0;34m.\u001b[0m\u001b[0m_pin_memory\u001b[0m\u001b[0;34m:\u001b[0m\u001b[0;34m\u001b[0m\u001b[0;34m\u001b[0m\u001b[0m\n\u001b[1;32m    679\u001b[0m             \u001b[0mdata\u001b[0m \u001b[0;34m=\u001b[0m \u001b[0m_utils\u001b[0m\u001b[0;34m.\u001b[0m\u001b[0mpin_memory\u001b[0m\u001b[0;34m.\u001b[0m\u001b[0mpin_memory\u001b[0m\u001b[0;34m(\u001b[0m\u001b[0mdata\u001b[0m\u001b[0;34m,\u001b[0m \u001b[0mself\u001b[0m\u001b[0;34m.\u001b[0m\u001b[0m_pin_memory_device\u001b[0m\u001b[0;34m)\u001b[0m\u001b[0;34m\u001b[0m\u001b[0;34m\u001b[0m\u001b[0m\n",
            "\u001b[0;32m/usr/local/lib/python3.10/dist-packages/torch/utils/data/_utils/fetch.py\u001b[0m in \u001b[0;36mfetch\u001b[0;34m(self, possibly_batched_index)\u001b[0m\n\u001b[1;32m     40\u001b[0m         \u001b[0;32melse\u001b[0m\u001b[0;34m:\u001b[0m\u001b[0;34m\u001b[0m\u001b[0;34m\u001b[0m\u001b[0m\n\u001b[1;32m     41\u001b[0m             \u001b[0mdata\u001b[0m \u001b[0;34m=\u001b[0m \u001b[0mnext\u001b[0m\u001b[0;34m(\u001b[0m\u001b[0mself\u001b[0m\u001b[0;34m.\u001b[0m\u001b[0mdataset_iter\u001b[0m\u001b[0;34m)\u001b[0m\u001b[0;34m\u001b[0m\u001b[0;34m\u001b[0m\u001b[0m\n\u001b[0;32m---> 42\u001b[0;31m         \u001b[0;32mreturn\u001b[0m \u001b[0mself\u001b[0m\u001b[0;34m.\u001b[0m\u001b[0mcollate_fn\u001b[0m\u001b[0;34m(\u001b[0m\u001b[0mdata\u001b[0m\u001b[0;34m)\u001b[0m\u001b[0;34m\u001b[0m\u001b[0;34m\u001b[0m\u001b[0m\n\u001b[0m\u001b[1;32m     43\u001b[0m \u001b[0;34m\u001b[0m\u001b[0m\n\u001b[1;32m     44\u001b[0m \u001b[0;34m\u001b[0m\u001b[0m\n",
            "\u001b[0;32m<ipython-input-7-888c30f00f9a>\u001b[0m in \u001b[0;36mcollate_batch\u001b[0;34m(batch)\u001b[0m\n\u001b[1;32m     11\u001b[0m \u001b[0;34m\u001b[0m\u001b[0m\n\u001b[1;32m     12\u001b[0m         \u001b[0;31m# target preprocessing\u001b[0m\u001b[0;34m\u001b[0m\u001b[0;34m\u001b[0m\u001b[0m\n\u001b[0;32m---> 13\u001b[0;31m         \u001b[0mprocessed_target\u001b[0m \u001b[0;34m=\u001b[0m \u001b[0mtorch\u001b[0m\u001b[0;34m.\u001b[0m\u001b[0mtensor\u001b[0m\u001b[0;34m(\u001b[0m\u001b[0minput_pipeline\u001b[0m\u001b[0;34m(\u001b[0m\u001b[0m_text\u001b[0m\u001b[0;34m)\u001b[0m\u001b[0;34m,\u001b[0m \u001b[0mdtype\u001b[0m\u001b[0;34m=\u001b[0m\u001b[0mtorch\u001b[0m\u001b[0;34m.\u001b[0m\u001b[0mint64\u001b[0m\u001b[0;34m)\u001b[0m\u001b[0;34m\u001b[0m\u001b[0;34m\u001b[0m\u001b[0m\n\u001b[0m\u001b[1;32m     14\u001b[0m \u001b[0;34m\u001b[0m\u001b[0m\n\u001b[1;32m     15\u001b[0m \u001b[0;34m\u001b[0m\u001b[0m\n",
            "\u001b[0;32m<ipython-input-6-fa1be4d0247e>\u001b[0m in \u001b[0;36m<lambda>\u001b[0;34m(x)\u001b[0m\n\u001b[0;32m----> 1\u001b[0;31m \u001b[0minput_pipeline\u001b[0m \u001b[0;34m=\u001b[0m \u001b[0;32mlambda\u001b[0m \u001b[0mx\u001b[0m\u001b[0;34m:\u001b[0m \u001b[0;34m[\u001b[0m\u001b[0mvb\u001b[0m\u001b[0;34m[\u001b[0m\u001b[0mtoken\u001b[0m\u001b[0;34m]\u001b[0m \u001b[0;32mfor\u001b[0m \u001b[0mtoken\u001b[0m \u001b[0;32min\u001b[0m \u001b[0mtokenizer\u001b[0m\u001b[0;34m(\u001b[0m\u001b[0mx\u001b[0m\u001b[0;34m)\u001b[0m\u001b[0;34m]\u001b[0m\u001b[0;34m[\u001b[0m\u001b[0;34m:\u001b[0m\u001b[0;34m-\u001b[0m\u001b[0;36m1\u001b[0m\u001b[0;34m]\u001b[0m\u001b[0;34m\u001b[0m\u001b[0;34m\u001b[0m\u001b[0m\n\u001b[0m\u001b[1;32m      2\u001b[0m \u001b[0mtarget_pipline\u001b[0m \u001b[0;34m=\u001b[0m \u001b[0;32mlambda\u001b[0m \u001b[0mx\u001b[0m\u001b[0;34m:\u001b[0m \u001b[0;34m[\u001b[0m\u001b[0mvb\u001b[0m\u001b[0;34m[\u001b[0m\u001b[0mtoken\u001b[0m\u001b[0;34m]\u001b[0m \u001b[0;32mfor\u001b[0m \u001b[0mtoken\u001b[0m \u001b[0;32min\u001b[0m \u001b[0mtokenizer\u001b[0m\u001b[0;34m(\u001b[0m\u001b[0mx\u001b[0m\u001b[0;34m)\u001b[0m\u001b[0;34m]\u001b[0m\u001b[0;34m[\u001b[0m\u001b[0;36m1\u001b[0m\u001b[0;34m:\u001b[0m\u001b[0;34m]\u001b[0m\u001b[0;34m\u001b[0m\u001b[0;34m\u001b[0m\u001b[0m\n\u001b[1;32m      3\u001b[0m \u001b[0;34m\u001b[0m\u001b[0m\n\u001b[1;32m      4\u001b[0m \u001b[0mlength\u001b[0m \u001b[0;34m=\u001b[0m \u001b[0;36m5\u001b[0m\u001b[0;34m\u001b[0m\u001b[0;34m\u001b[0m\u001b[0m\n\u001b[1;32m      5\u001b[0m \u001b[0mprint\u001b[0m\u001b[0;34m(\u001b[0m\u001b[0;34m\"Example Sequences\"\u001b[0m\u001b[0;34m)\u001b[0m\u001b[0;34m\u001b[0m\u001b[0;34m\u001b[0m\u001b[0m\n",
            "\u001b[0;32m<ipython-input-6-fa1be4d0247e>\u001b[0m in \u001b[0;36m<listcomp>\u001b[0;34m(.0)\u001b[0m\n\u001b[0;32m----> 1\u001b[0;31m \u001b[0minput_pipeline\u001b[0m \u001b[0;34m=\u001b[0m \u001b[0;32mlambda\u001b[0m \u001b[0mx\u001b[0m\u001b[0;34m:\u001b[0m \u001b[0;34m[\u001b[0m\u001b[0mvb\u001b[0m\u001b[0;34m[\u001b[0m\u001b[0mtoken\u001b[0m\u001b[0;34m]\u001b[0m \u001b[0;32mfor\u001b[0m \u001b[0mtoken\u001b[0m \u001b[0;32min\u001b[0m \u001b[0mtokenizer\u001b[0m\u001b[0;34m(\u001b[0m\u001b[0mx\u001b[0m\u001b[0;34m)\u001b[0m\u001b[0;34m]\u001b[0m\u001b[0;34m[\u001b[0m\u001b[0;34m:\u001b[0m\u001b[0;34m-\u001b[0m\u001b[0;36m1\u001b[0m\u001b[0;34m]\u001b[0m\u001b[0;34m\u001b[0m\u001b[0;34m\u001b[0m\u001b[0m\n\u001b[0m\u001b[1;32m      2\u001b[0m \u001b[0mtarget_pipline\u001b[0m \u001b[0;34m=\u001b[0m \u001b[0;32mlambda\u001b[0m \u001b[0mx\u001b[0m\u001b[0;34m:\u001b[0m \u001b[0;34m[\u001b[0m\u001b[0mvb\u001b[0m\u001b[0;34m[\u001b[0m\u001b[0mtoken\u001b[0m\u001b[0;34m]\u001b[0m \u001b[0;32mfor\u001b[0m \u001b[0mtoken\u001b[0m \u001b[0;32min\u001b[0m \u001b[0mtokenizer\u001b[0m\u001b[0;34m(\u001b[0m\u001b[0mx\u001b[0m\u001b[0;34m)\u001b[0m\u001b[0;34m]\u001b[0m\u001b[0;34m[\u001b[0m\u001b[0;36m1\u001b[0m\u001b[0;34m:\u001b[0m\u001b[0;34m]\u001b[0m\u001b[0;34m\u001b[0m\u001b[0;34m\u001b[0m\u001b[0m\n\u001b[1;32m      3\u001b[0m \u001b[0;34m\u001b[0m\u001b[0m\n\u001b[1;32m      4\u001b[0m \u001b[0mlength\u001b[0m \u001b[0;34m=\u001b[0m \u001b[0;36m5\u001b[0m\u001b[0;34m\u001b[0m\u001b[0;34m\u001b[0m\u001b[0m\n\u001b[1;32m      5\u001b[0m \u001b[0mprint\u001b[0m\u001b[0;34m(\u001b[0m\u001b[0;34m\"Example Sequences\"\u001b[0m\u001b[0;34m)\u001b[0m\u001b[0;34m\u001b[0m\u001b[0;34m\u001b[0m\u001b[0m\n",
            "\u001b[0;31mKeyboardInterrupt\u001b[0m: "
          ]
        }
      ],
      "source": [
        "train_history, valid_history = train(model, train_dl, valid_dl)"
      ]
    },
    {
      "cell_type": "code",
      "source": [
        "import matplotlib.pyplot as plt\n",
        "plt.rcParams.update({'font.size': 5})\n",
        "\n",
        "# plot loss history\n",
        "fig, ax = plt.subplots(figsize=(6,3.5), dpi=200)\n",
        "\n",
        "ax.plot(\n",
        "        train_history,\n",
        "        label = r'Training Loss',\n",
        "        #marker = 'o',\n",
        "        markersize = 4)\n",
        "\n",
        "ax.plot(\n",
        "        valid_history,\n",
        "        label = r'Validation loss',\n",
        "        #marker = 'o',\n",
        "        markersize = 4)\n",
        "\n",
        "ax.set_title(\"Model Loss History\")\n",
        "ax.set_xlabel('Epoch')\n",
        "ax.set_ylabel('Model Loss')\n",
        "ax.set_xlim(1, len(train_history))\n",
        "ax.legend()\n",
        "ax.legend().get_frame().set_alpha(1.0)\n",
        "\n",
        "ax.grid(True)"
      ],
      "metadata": {
        "id": "MRZrtOA5WFL9",
        "outputId": "1d5ac33d-4511-4007-82bc-84a7a145733a",
        "colab": {
          "base_uri": "https://localhost:8080/",
          "height": 719
        }
      },
      "execution_count": 233,
      "outputs": [
        {
          "output_type": "stream",
          "name": "stderr",
          "text": [
            "<ipython-input-233-f4f6290ccda5>:22: UserWarning: Attempting to set identical low and high xlims makes transformation singular; automatically expanding.\n",
            "  ax.set_xlim(1, len(train_history))\n"
          ]
        },
        {
          "output_type": "display_data",
          "data": {
            "text/plain": [
              "<Figure size 1200x700 with 1 Axes>"
            ],
            "image/png": "[encoded data removed]"
          },
          "metadata": {}
        }
      ]
    },
    {
      "cell_type": "markdown",
      "metadata": {
        "id": "_6CuxuxPwmgM"
      },
      "source": [
        "### Training and Evaluation Pipelines"
      ]
    },
    {
      "cell_type": "code",
      "source": [
        "import torch.nn.functional as F\n",
        "\n",
        "def generate_text(model, text, max = 17, adjust = 1):\n",
        "    # set model to evaluation\n",
        "    model.eval()\n",
        "\n",
        "    # copy input string\n",
        "    input = text\n",
        "\n",
        "    # iterate max times\n",
        "    for _ in range(max):\n",
        "\n",
        "        # convert to tensor tokens\n",
        "        text_tokens = [vb[token] for token in tokenizer(input)]\n",
        "        tensor_tokens = torch.tensor(text_tokens, dtype = torch.int64).to(device)\n",
        "\n",
        "        # evaluate on model and adjust by scalar to add addtional randomness\n",
        "        with torch.no_grad():\n",
        "            logits = model(tensor_tokens)[-1,:] / adjust\n",
        "\n",
        "        # convert to probabilies\n",
        "        probs = F.softmax(logits, dim=-1)\n",
        "\n",
        "        # use multinomial distribution to select index of next word based on probs\n",
        "        choice = torch.multinomial(probs, 1).item()\n",
        "\n",
        "        # obtain next word from vb\n",
        "        next_word = vb.lookup_token(choice)\n",
        "\n",
        "        # append to end of input string\n",
        "        input = input+\" \"+next_word\n",
        "\n",
        "    return input\n",
        "\n",
        "for i in range(5):\n",
        "    generated_text = generate_text(model, \"My favorite movie\", 17)\n",
        "    print(f\"Review {i+1}: {generated_text}\")"
      ],
      "metadata": {
        "id": "I8HS4PZ86DKo"
      },
      "execution_count": 220,
      "outputs": []
    }
  ],
  "metadata": {
    "kernelspec": {
      "display_name": "Python 3",
      "name": "python3"
    },
    "language_info": {
      "codemirror_mode": {
        "name": "ipython",
        "version": 3
      },
      "file_extension": ".py",
      "mimetype": "text/x-python",
      "name": "python",
      "nbconvert_exporter": "python",
      "pygments_lexer": "ipython3",
      "version": "3.11.5"
    },
    "colab": {
      "provenance": [],
      "gpuType": "T4"
    },
    "accelerator": "GPU"
  },
  "nbformat": 4,
  "nbformat_minor": 0
}