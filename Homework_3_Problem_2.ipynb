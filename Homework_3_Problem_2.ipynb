{
 "cells": [
  {
   "cell_type": "markdown",
   "metadata": {},
   "source": [
    "### 2. Sequence to Sequence Model for Translation (4pt)\n",
    "\n",
    " -  Train the sequence to sequence model ([Model 1](https://github.com/thejat/dl-notebooks/blob/master/examples/rnn/Seq2Seq_Translation_Example.ipynb)) for a language pair (excluding French-English), where the output is English and the input is a language of [your choice](https://www.manythings.org/anki/).\n",
    " -  Now train another model (Model 2) for the reverse (i.e., from English to the language you chose). In this model, use the GloVe 100 dimensional embeddings. See notebook 4, cell 2 for an [example](https://github.com/bentrevett/pytorch-sentiment-analysis) while training.\n",
    " -  Input 5 well formed sentences from the English vocab to Model 2, and input the resultant translated sentences to Model 1. Display all model outputs in each case.\n",
    " - Note: make any assumptions as necessary."
   ]
  }
 ],
 "metadata": {
  "kernelspec": {
   "display_name": "Python 3",
   "language": "python",
   "name": "python3"
  },
  "language_info": {
   "codemirror_mode": {
    "name": "ipython",
    "version": 3
   },
   "file_extension": ".py",
   "mimetype": "text/x-python",
   "name": "python",
   "nbconvert_exporter": "python",
   "pygments_lexer": "ipython3",
   "version": "3.7.6"
  }
 },
 "nbformat": 4,
 "nbformat_minor": 4
}
