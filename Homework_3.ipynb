{
  "cells": [
    {
      "cell_type": "markdown",
      "metadata": {
        "id": "1x7GW3-8hY6f"
      },
      "source": [
        "# Homework 3\n",
        "## IDS 576 <br>\n",
        "Name: Isaac Salvador <br>\n",
        "Email: isalva2@uic.edu <br>\n",
        "UIN: 6669845132 <br>\n",
        "\n",
        "Name: Ahreum Kim <br>\n",
        "Email: akim239@uic.edu <br>\n",
        "UIN: 653241895 <br>\n",
        "\n",
        "Name: Sadjad Bazarnovi <br>\n",
        "Email: sbazar3@uic.edu <br>\n",
        "UIN: 679314994 <br>"
      ]
    },
    {
      "cell_type": "markdown",
      "metadata": {},
      "source": [
        "# 1. RNN for Language Modeling"
      ]
    },
    {
      "cell_type": "markdown",
      "metadata": {},
      "source": [
        "## `torchtext` IMDB dataset\n",
        "We begin by setting up the `torch` environment and downloading the `IMDB` dataset from the `torchtext.data.Dataset` class. The `torchtext` dataset is preprocessed into a into a collection of lists of tokens."
      ]
    },
    {
      "cell_type": "code",
      "execution_count": 2,
      "metadata": {},
      "outputs": [
        {
          "name": "stdout",
          "output_type": "stream",
          "text": [
            "Torch Device: mps\n"
          ]
        }
      ],
      "source": [
        "import torch\n",
        "from torch import mps\n",
        "\n",
        "import torchtext\n",
        "from torchtext import datasets\n",
        "\n",
        "from nltk.tokenize import word_tokenize\n",
        "import re\n",
        "\n",
        "# make torch deterministic for reproducibility\n",
        "seed = 576\n",
        "torch.manual_seed(seed)\n",
        "\n",
        "# set device\n",
        "device = torch.device(\"mps\" if torch.backends.mps.is_available() else \"cuda\" if torch.cuda.is_available() else \"cpu\")\n",
        "print(\"Torch Device:\", device)"
      ]
    },
    {
      "cell_type": "code",
      "execution_count": 3,
      "metadata": {},
      "outputs": [],
      "source": [
        "# train model on training split\n",
        "train_iter = datasets.IMDB(split=\"train\")\n",
        "\n",
        "# initialize a list to store reviews\n",
        "reviews = []\n",
        "\n",
        "# append each review\n",
        "for _, review in train_iter:\n",
        "    reviews.append(review)\n",
        "\n",
        "# initialize list to store tokenized reviews\n",
        "tokenized_reviews = []\n",
        "\n",
        "# preprocess and tokenize reviews\n",
        "for review in reviews:\n",
        "    lowercase_review = review.lower()\n",
        "    cleaned_review = re.sub(r'[^A-Za-z0-9\\s]+', '', lowercase_review.replace('<br />', ' '))\n",
        "    tokenized_reviews.append(word_tokenize(cleaned_review))"
      ]
    },
    {
      "cell_type": "markdown",
      "metadata": {},
      "source": [
        "## Markov (n-gram) Language Model"
      ]
    },
    {
      "cell_type": "markdown",
      "metadata": {},
      "source": [
        "A _Markov (n-gram)_ language model is a purely statistical character-level model. The model is based on the assumption that the probability of the next word in a sequence is based on the history _h_ of the preceding words in the sequence. For a set number _n_ of immediately previous words (or tokens) in the sequence, this assumption can be expressed as:\n",
        "\n",
        "$$P(w|h)\\approx P(w_n|w_{1:n-1})$$\n",
        "\n",
        "A _bigram_ is specific _n-gram_ case (_n_ = 2) where the conditional probability of the next word in a sequence is dependent solely on the preceding word in the sequence\n",
        "\n",
        "$$P(w|h)\\approx P(w_n|w_{n-1})$$\n",
        "\n",
        "We can further generalize this propoerty to _trigrams_ (_n_ = 3) such that the conditional probability of the next word in a sequence is\n",
        "\n",
        "$$P(w|h)\\approx P(w_n|w_{n-2, n-1})$$\n",
        "\n",
        "Let us create a general python class `build_random_ngram_model` that replicates the above funtionality with the IMBD dataset. In order to reduce recursive, repeating predicitons, the `predic()` method introduces randomness to the model, using a weighted choice between all tokens $w_n$ that correspond to a certain context $w_{1:n-1}$. The method parameter `rand` allows us to select the top `rand` weighted words from the model."
      ]
    },
    {
      "cell_type": "code",
      "execution_count": 4,
      "metadata": {},
      "outputs": [],
      "source": [
        "from nltk.util import ngrams\n",
        "from tqdm import tqdm\n",
        "import random\n",
        "\n",
        "class build_random_ngram_model():\n",
        "\n",
        "    '''\n",
        "    This class builds a Markov (n-gram) language model.\n",
        "    '''\n",
        "    def __init__(self, tokenized_reviews: list, n: int = 2):\n",
        "        self.n = n\n",
        "        self.model = self._build_model(tokenized_reviews, n=n)\n",
        "\n",
        "    def _build_model(self, tokenized_reviews, n):\n",
        "\n",
        "        # empty return model\n",
        "        model = {}\n",
        "\n",
        "        # build model\n",
        "        print(\"builing model...\")\n",
        "        for review in tqdm(tokenized_reviews):\n",
        "\n",
        "            # build n-grams from reviews\n",
        "            for ngram in ngrams(review, n, pad_right=True, pad_left=True):\n",
        "                context = tuple(ngram[:-1])\n",
        "                target = ngram[-1]\n",
        "\n",
        "                # check if context is already in the model\n",
        "                if context not in model:\n",
        "                    model[context] = {}\n",
        "\n",
        "                # get frequency counts of co-occurrence\n",
        "                if target not in model[context]:\n",
        "                    model[context][target] = 1\n",
        "                else:\n",
        "                    model[context][target] += 1\n",
        "\n",
        "        # convert frequency counts to probabilities\n",
        "        for context in model:\n",
        "            count = float(sum(model[context].values()))\n",
        "            for target in model[context]:\n",
        "                model[context][target] /= count\n",
        "\n",
        "        # return trained model\n",
        "        print(\"done!\")\n",
        "        return model\n",
        "\n",
        "    def get_model(self) -> dict:\n",
        "\n",
        "        '''\n",
        "        Returns model stored as dict.\n",
        "        '''\n",
        "\n",
        "        return self.model\n",
        "\n",
        "    def predict(self, words: str, rand: int = None) -> str:\n",
        "\n",
        "        '''\n",
        "        This function returns the next word given the input string.\n",
        "        Randomly select out of the top rand probabilities given a certain context.\n",
        "        '''\n",
        "\n",
        "        # get last n-1 words in string\n",
        "        key = tuple(words.split())[1-self.n:]\n",
        "\n",
        "        # get top keys in dictionary\n",
        "        top_keys = sorted(self.model[key], key = self.model[key].get, reverse=True)[:rand]\n",
        "\n",
        "        # get probs of top keys\n",
        "        top_values = [self.model[key][top_key] for top_key in top_keys]\n",
        "\n",
        "        # select random key\n",
        "        selected_key = random.choices(top_keys, weights = top_values, k=1)[0]\n",
        "\n",
        "        return selected_key\n",
        "\n",
        "    def complete(self, words: str, rand: int = None) -> str:\n",
        "\n",
        "        '''\n",
        "        This function returns the entire string with the predicted next word\n",
        "        '''\n",
        "\n",
        "        next_word = self.predict(words, rand = rand)\n",
        "\n",
        "        # if context does not exist in model dict return original words\n",
        "        if next_word is not None:\n",
        "            completed_string = words+\" \"+next_word\n",
        "        else:\n",
        "            completed_string = words\n",
        "\n",
        "        return completed_string\n",
        "\n",
        "    def review(self, words: str, l = 10, rand: int = None) -> str:\n",
        "\n",
        "        '''\n",
        "        This function completes a review for an additional l words.\n",
        "        '''\n",
        "\n",
        "        working_words = words\n",
        "\n",
        "        i = 0\n",
        "\n",
        "        while i < l:\n",
        "            working_words = self.complete(working_words, rand = rand)\n",
        "            i += 1\n",
        "\n",
        "        return working_words"
      ]
    },
    {
      "cell_type": "markdown",
      "metadata": {},
      "source": [
        "We can now build a trigram language model and generate random reviews from the input string `My favorite movie`."
      ]
    },
    {
      "cell_type": "code",
      "execution_count": 5,
      "metadata": {},
      "outputs": [
        {
          "name": "stdout",
          "output_type": "stream",
          "text": [
            "builing model...\n"
          ]
        },
        {
          "name": "stderr",
          "output_type": "stream",
          "text": [
            "100%|██████████| 25000/25000 [00:04<00:00, 6164.88it/s]\n"
          ]
        },
        {
          "name": "stdout",
          "output_type": "stream",
          "text": [
            "done!\n",
            "Review 1: My favorite movie dawn of the plot is really a new exciting universe represents the cornerstone of the steam the\n",
            "Review 2: My favorite movie but in an oscar nomination has a choice he has no memory of david jason the mike\n",
            "Review 3: My favorite movie i saw first the action switches to a tearstained reunion with his role yet i am now\n",
            "Review 4: My favorite movie role has the same verve as characters go through the chest all made stuff like what remained\n",
            "Review 5: My favorite movie this movie seems like hes treading on well i researched the plot since others have felt isolated\n"
          ]
        }
      ],
      "source": [
        "trigram_model = build_random_ngram_model(tokenized_reviews, 3)\n",
        "\n",
        "for i in range(5):\n",
        "    generated_text = trigram_model.review(\"My favorite movie\", 17)\n",
        "    print(f\"Review {i+1}: {generated_text}\")"
      ]
    },
    {
      "cell_type": "markdown",
      "metadata": {},
      "source": [
        "## LSTM Based Language Model"
      ]
    },
    {
      "cell_type": "markdown",
      "metadata": {},
      "source": [
        "For the LSTM based language model we shall be following along with [Seq2Seq_LSTM_Simple_Sentiment_Analysis.ipynb](https://github.com/thejat/dl-notebooks/blob/master/examples/rnn/Seq2Seq_LSTM_Simple_Sentiment_Analysis.ipynb) and making modifications as neccessary.\n",
        "\n",
        "First we download the `\"train\"` and `\"test\"` splits from the `IMDB` dataset and check the size of each split. For the sake of computational complexity, the training dataset is reduced to 2,000 instance and the validation dataset is reduced to 200."
      ]
    },
    {
      "cell_type": "code",
      "execution_count": 8,
      "metadata": {},
      "outputs": [
        {
          "name": "stdout",
          "output_type": "stream",
          "text": [
            "Train dataset size:  2000\n",
            "Test dataset size:  200\n"
          ]
        }
      ],
      "source": [
        "from torch.utils.data import Subset\n",
        "\n",
        "train_n = 2000\n",
        "valid_n = 200\n",
        "\n",
        "train_dataset_raw = datasets.IMDB(split=\"train\")\n",
        "valid_dataset_raw = datasets.IMDB(split=\"test\")\n",
        "\n",
        "train_dataset = Subset(list(train_dataset_raw), range(train_n))\n",
        "valid_dataset = Subset(list(valid_dataset_raw), range(valid_n))\n",
        "\n",
        "print(\"Train dataset size: \",len(list(train_dataset)))\n",
        "print(\"Test dataset size: \",len(list(valid_dataset)))"
      ]
    },
    {
      "cell_type": "markdown",
      "metadata": {},
      "source": [
        "### Data Preprocessing Pipeline\n",
        "We next construct utilities to aid in the preprocessing of the `IMDB` dataset. Since we are creating a language model, our preprocessing pipeline must result in the generation of an _input sequence_ and _target sequence_. The _input sequence_ and _target sequence_ differ only by one \"time-step\".\n",
        "\n",
        "$$X_{Raw} =[x_1, x_2, \\ldots, x_T]$$\n",
        "$$X_{Input} = [x_1, x_2, \\ldots, x_{T-1}]$$\n",
        "$$X_{Target} = [x_2, x_3, \\ldots, x_{T}]$$\n",
        "\n",
        "The first utility is the `tokenizer()`, that parses through string instances in the datasets and converts to tokens."
      ]
    },
    {
      "cell_type": "code",
      "execution_count": 9,
      "metadata": {},
      "outputs": [],
      "source": [
        "def tokenizer(text):\n",
        "    # step 1. remove HTML tags. they are not helpful in understanding the sentiments of a review\n",
        "    # step 2: use lowercase for all text to keep symmetry\n",
        "    # step 3: extract emoticons. keep them as they are important sentiment signals\n",
        "    # step 4: remove punctuation marks\n",
        "    # step 5: put back emoticons\n",
        "    # step 6: generate word tokens\n",
        "    text = re.sub(\"<[^>]*>\", \"\", text)\n",
        "    text = text.lower()\n",
        "    emoticons = re.findall(\"(?::|;|=)(?:-)?(?:\\)|\\(|D|P)\", text)\n",
        "    text = re.sub(\"[\\W]+\", \" \", text)\n",
        "    text = text + \" \".join(emoticons).replace(\"-\", \"\")\n",
        "    tokenized = text.split()\n",
        "    return tokenized"
      ]
    },
    {
      "cell_type": "markdown",
      "metadata": {},
      "source": [
        "We next create a utility to obtain `token_counts` from the dataset."
      ]
    },
    {
      "cell_type": "code",
      "execution_count": 10,
      "metadata": {},
      "outputs": [
        {
          "name": "stdout",
          "output_type": "stream",
          "text": [
            "IMDB train dataset vocab size: 23330\n"
          ]
        }
      ],
      "source": [
        "from collections import Counter\n",
        "\n",
        "token_counts = Counter()\n",
        "\n",
        "for _, line in iter(train_dataset):\n",
        "    tokens = tokenizer(line)\n",
        "    token_counts.update(tokens)\n",
        "\n",
        "print('IMDB train dataset vocab size:', len(token_counts))"
      ]
    },
    {
      "cell_type": "markdown",
      "metadata": {},
      "source": [
        "The tokens are then sorted by frequency and converted to to integers using the `vocab` object. For the sake of computational complexity the first 1,000 words of the ordered dictionary by freqeuency are used for the model vocabulary."
      ]
    },
    {
      "cell_type": "code",
      "execution_count": 11,
      "metadata": {},
      "outputs": [
        {
          "name": "stdout",
          "output_type": "stream",
          "text": [
            "this  -->  11\n",
            "is  -->  7\n",
            "an  -->  37\n",
            "example  -->  407\n"
          ]
        }
      ],
      "source": [
        "from collections import OrderedDict\n",
        "from torchtext.vocab import vocab\n",
        "\n",
        "sorted_by_freq_tuples = sorted(token_counts.items(), key=lambda x: x[1], reverse=True)\n",
        "ordered_dict = OrderedDict(sorted_by_freq_tuples)\n",
        "\n",
        "reduced_ordered_dict = OrderedDict()\n",
        "\n",
        "count = 0\n",
        "for key, value in ordered_dict.items():\n",
        "    reduced_ordered_dict[key] = value\n",
        "    count += 1\n",
        "\n",
        "    if count == 1000:\n",
        "        break\n",
        "\n",
        "vb = vocab(reduced_ordered_dict)\n",
        "\n",
        "vb.insert_token(\"<pad>\", 0)  # special token for padding\n",
        "vb.insert_token(\"<unk>\", 1)  # special token for unknown words\n",
        "vb.set_default_index(1)\n",
        "\n",
        "# print some token indexes from vocab\n",
        "for token in [\"this\", \"is\", \"an\", \"example\"]:\n",
        "    print(token, \" --> \", vb[token])"
      ]
    },
    {
      "cell_type": "code",
      "execution_count": 12,
      "metadata": {},
      "outputs": [
        {
          "name": "stdout",
          "output_type": "stream",
          "text": [
            "Example Sequences\n",
            "Sample Tokens: ['i', 'rented', 'i', 'am', 'curious', 'yellow']\n",
            "Input Sequence: [9, 1, 9, 257, 1]\n",
            "Target Sequence: [1, 9, 257, 1, 1] \n",
            "\n",
            "Sample Tokens: ['i', 'am', 'curious', 'yellow', 'is', 'a']\n",
            "Input Sequence: [9, 257, 1, 1, 7]\n",
            "Target Sequence: [257, 1, 1, 7, 3] \n",
            "\n",
            "Sample Tokens: ['if', 'only', 'to', 'avoid', 'making', 'this']\n",
            "Input Sequence: [44, 57, 6, 474, 202]\n",
            "Target Sequence: [57, 6, 474, 202, 11] \n",
            "\n",
            "Sample Tokens: ['this', 'film', 'was', 'probably', 'inspired', 'by']\n",
            "Input Sequence: [11, 21, 14, 242, 1]\n",
            "Target Sequence: [21, 14, 242, 1, 36] \n",
            "\n"
          ]
        }
      ],
      "source": [
        "input_pipeline = lambda x: [vb[token] for token in tokenizer(x)][:-1]\n",
        "target_pipline = lambda x: [vb[token] for token in tokenizer(x)][1:]\n",
        "\n",
        "length = 5\n",
        "print(\"Example Sequences\")\n",
        "for i in list(train_dataset_raw)[:4]:\n",
        "    example_tokens = tokenizer(i[1])[:length+1]\n",
        "    example_input = input_pipeline(i[1])[:length]\n",
        "    example_target = target_pipline(i[1])[:length]\n",
        "\n",
        "    print(f'Sample Tokens: {example_tokens}')\n",
        "    print(f'Input Sequence: {example_input}')\n",
        "    print(f'Target Sequence: {example_target}', \"\\n\")"
      ]
    },
    {
      "cell_type": "markdown",
      "metadata": {},
      "source": [
        "The preprocessing utilities will be applied at the batch level, as a `collate_fn` argument. The source code is modified to return the input and target sequences. Since these sequences are of the same length, we do not need to return length"
      ]
    },
    {
      "cell_type": "code",
      "execution_count": 13,
      "metadata": {},
      "outputs": [],
      "source": [
        "import torch.nn as nn\n",
        "\n",
        "def collate_batch(batch):\n",
        "    input_list, target_list, = [], []\n",
        "\n",
        "    # iterate over all reviews in a batch\n",
        "    for _, _text in batch:\n",
        "\n",
        "        # input preprocessing\n",
        "        processed_input = torch.tensor(input_pipeline(_text), dtype=torch.int64)\n",
        "\n",
        "        # target preprocessing\n",
        "        processed_target = torch.tensor(input_pipeline(_text), dtype=torch.int64)\n",
        "\n",
        "\n",
        "        # store the processed text in input and target lists\n",
        "        input_list.append(processed_input)\n",
        "        target_list.append(processed_target)\n",
        "\n",
        "    # pad the processed reviews to make their lengths consistant\n",
        "    padded_input_list = nn.utils.rnn.pad_sequence(\n",
        "        input_list, batch_first=True)\n",
        "\n",
        "    padded_target_list = nn.utils.rnn.pad_sequence(\n",
        "        target_list, batch_first=True\n",
        "    )\n",
        "\n",
        "    # return\n",
        "    # 1. a list of processed and padded input texts\n",
        "    # 2. a list of processed and padded target texts\n",
        "    # 3. a list of review text original lengths (before padding)\n",
        "    return padded_input_list.to(device), padded_target_list.to(device)"
      ]
    },
    {
      "cell_type": "markdown",
      "metadata": {},
      "source": [
        "### Batching the Training, Validation, and Test Datasets\n",
        "The `IMDB` Datasets are loaded into torch `DataLoader()` objects with the above `collate_batch()` function."
      ]
    },
    {
      "cell_type": "code",
      "execution_count": 14,
      "metadata": {},
      "outputs": [],
      "source": [
        "from torch.utils.data import DataLoader\n",
        "batch_size = 32\n",
        "\n",
        "train_dl = DataLoader(\n",
        "    train_dataset, batch_size=batch_size, shuffle=True, collate_fn=collate_batch\n",
        ")\n",
        "valid_dl = DataLoader(\n",
        "    valid_dataset, batch_size=batch_size, shuffle=False, collate_fn=collate_batch\n",
        ")"
      ]
    },
    {
      "cell_type": "markdown",
      "metadata": {},
      "source": [
        "We will now modify the source code's sentiment analysis `RNN` class for the purposes of language modeling. An overview of the architecture and design choices made to implement this are as follows:\n",
        "- An **Embedding layer** as as explained by the source code.\n",
        "- An **LSTM layer**  to capture long range dependencies and relationships in the text.\n",
        "- A **Fully Connected layer** to obtain `logits`, the raw unnormalized predictions for each token at each \"time step\" in the model."
      ]
    },
    {
      "cell_type": "code",
      "execution_count": 16,
      "metadata": {},
      "outputs": [
        {
          "name": "stdout",
          "output_type": "stream",
          "text": [
            "Number of parameters: 4124232\n"
          ]
        }
      ],
      "source": [
        "# create langauge model class\n",
        "class RNN_Language(nn.Module):\n",
        "    def __init__(self, vocab_size, embed_dim):\n",
        "        super().__init__()\n",
        "        self.embedding = nn.Embedding(vocab_size, embed_dim, padding_idx=0)\n",
        "        self.rnn = nn.LSTM(embed_dim, vocab_size)#, batch_first=True)\n",
        "\n",
        "    def forward(self, input_sequence):\n",
        "        out = self.embedding(input_sequence)\n",
        "        out, _ = self.rnn(out)\n",
        "        out.view(-1, vocab_size)\n",
        "        return out\n",
        "\n",
        "# instantiate a model\n",
        "vocab_size = len(vb)\n",
        "embed_dim = 20\n",
        "\n",
        "torch.manual_seed(576)\n",
        "model = RNN_Language(vocab_size, embed_dim)\n",
        "model = model.to(device)\n",
        "\n",
        "total_params = sum(p.numel() for p in model.parameters())\n",
        "print(f\"Number of parameters: {total_params}\")"
      ]
    },
    {
      "cell_type": "markdown",
      "metadata": {},
      "source": [
        "### Loss Function, Optimizer and Training Loop"
      ]
    },
    {
      "cell_type": "markdown",
      "metadata": {},
      "source": [
        "We will utilize `CrossEntropyLoss()` as our loss function and the `Adam()` algorithm for optimization."
      ]
    },
    {
      "cell_type": "code",
      "execution_count": 17,
      "metadata": {},
      "outputs": [],
      "source": [
        "from tqdm import tqdm\n",
        "\n",
        "criterion = nn.CrossEntropyLoss()\n",
        "criterion.to(device)\n",
        "\n",
        "optimizer = torch.optim.Adam(model.parameters(), lr = 1e-3)\n",
        "\n",
        "model.to(device)\n",
        "\n",
        "num_epochs = 10\n",
        "\n",
        "# training loop\n",
        "\n",
        "def train(model, train_dl, valid_dl):\n",
        "\n",
        "    train_history, valid_history = [], []\n",
        "\n",
        "    for epoch in range(num_epochs):\n",
        "\n",
        "        print(f\"Epopch: {epoch}\")\n",
        "\n",
        "        model.train()\n",
        "        total_loss, valid_loss = 0, 0\n",
        "\n",
        "        # training\n",
        "        for input_batch, target_batch in tqdm(train_dl):\n",
        "            with torch.set_grad_enabled(True):\n",
        "                # forward pass\n",
        "                optimizer.zero_grad()\n",
        "                logits = model(input_batch)\n",
        "                loss = criterion(logits.view(-1, vocab_size), target_batch.view(-1))\n",
        "\n",
        "                # backwards pass\n",
        "                loss.backward()\n",
        "                optimizer.step()\n",
        "\n",
        "            total_loss += loss.item() * batch_size\n",
        "\n",
        "        avg_loss = total_loss / len(train_dl.dataset)\n",
        "        train_history.append(avg_loss)\n",
        "        print(f\"Training loss:\\t{avg_loss}\")\n",
        "\n",
        "        # validation\n",
        "        for input_batch, target_batch in valid_dl:\n",
        "            with torch.no_grad():\n",
        "                logits = model(input_batch)\n",
        "                loss = criterion(logits.view(-1, vocab_size), target_batch.view(-1))\n",
        "\n",
        "            valid_loss += loss.item() * batch_size\n",
        "\n",
        "        avg_valid_loss = valid_loss / len(valid_dl.dataset)\n",
        "        valid_history.append(avg_valid_loss)\n",
        "        print(f\"Validation Loss\\t{avg_valid_loss}\\n\")\n",
        "\n",
        "\n",
        "    return train_history, valid_history"
      ]
    },
    {
      "cell_type": "code",
      "execution_count": 18,
      "metadata": {},
      "outputs": [
        {
          "name": "stdout",
          "output_type": "stream",
          "text": [
            "Epopch: 0\n"
          ]
        },
        {
          "name": "stderr",
          "output_type": "stream",
          "text": [
            "100%|██████████| 63/63 [00:19<00:00,  3.22it/s]\n"
          ]
        },
        {
          "name": "stdout",
          "output_type": "stream",
          "text": [
            "Training loss:\t5.988236808776856\n",
            "Validation Loss\t6.549685287475586\n",
            "\n",
            "Epopch: 1\n"
          ]
        },
        {
          "name": "stderr",
          "output_type": "stream",
          "text": [
            "100%|██████████| 63/63 [00:18<00:00,  3.48it/s]\n"
          ]
        },
        {
          "name": "stdout",
          "output_type": "stream",
          "text": [
            "Training loss:\t5.810271705627441\n",
            "Validation Loss\t6.481771621704102\n",
            "\n",
            "Epopch: 2\n"
          ]
        },
        {
          "name": "stderr",
          "output_type": "stream",
          "text": [
            "100%|██████████| 63/63 [00:18<00:00,  3.41it/s]\n"
          ]
        },
        {
          "name": "stdout",
          "output_type": "stream",
          "text": [
            "Training loss:\t5.758795715332031\n",
            "Validation Loss\t6.4237628936767575\n",
            "\n",
            "Epopch: 3\n"
          ]
        },
        {
          "name": "stderr",
          "output_type": "stream",
          "text": [
            "100%|██████████| 63/63 [00:18<00:00,  3.39it/s]\n"
          ]
        },
        {
          "name": "stdout",
          "output_type": "stream",
          "text": [
            "Training loss:\t5.714550354003906\n",
            "Validation Loss\t6.379196243286133\n",
            "\n",
            "Epopch: 4\n"
          ]
        },
        {
          "name": "stderr",
          "output_type": "stream",
          "text": [
            "100%|██████████| 63/63 [00:18<00:00,  3.47it/s]\n"
          ]
        },
        {
          "name": "stdout",
          "output_type": "stream",
          "text": [
            "Training loss:\t5.679977897644043\n",
            "Validation Loss\t6.3318408203125\n",
            "\n",
            "Epopch: 5\n"
          ]
        },
        {
          "name": "stderr",
          "output_type": "stream",
          "text": [
            "100%|██████████| 63/63 [00:18<00:00,  3.44it/s]\n"
          ]
        },
        {
          "name": "stdout",
          "output_type": "stream",
          "text": [
            "Training loss:\t5.647700401306152\n",
            "Validation Loss\t6.286894607543945\n",
            "\n",
            "Epopch: 6\n"
          ]
        },
        {
          "name": "stderr",
          "output_type": "stream",
          "text": [
            "100%|██████████| 63/63 [00:18<00:00,  3.46it/s]\n"
          ]
        },
        {
          "name": "stdout",
          "output_type": "stream",
          "text": [
            "Training loss:\t5.602602851867676\n",
            "Validation Loss\t6.245165328979493\n",
            "\n",
            "Epopch: 7\n"
          ]
        },
        {
          "name": "stderr",
          "output_type": "stream",
          "text": [
            "100%|██████████| 63/63 [00:17<00:00,  3.58it/s]\n"
          ]
        },
        {
          "name": "stdout",
          "output_type": "stream",
          "text": [
            "Training loss:\t5.576066429138184\n",
            "Validation Loss\t6.225190963745117\n",
            "\n",
            "Epopch: 8\n"
          ]
        },
        {
          "name": "stderr",
          "output_type": "stream",
          "text": [
            "100%|██████████| 63/63 [00:18<00:00,  3.47it/s]\n"
          ]
        },
        {
          "name": "stdout",
          "output_type": "stream",
          "text": [
            "Training loss:\t5.552427825927734\n",
            "Validation Loss\t6.203888931274414\n",
            "\n",
            "Epopch: 9\n"
          ]
        },
        {
          "name": "stderr",
          "output_type": "stream",
          "text": [
            "100%|██████████| 63/63 [00:18<00:00,  3.43it/s]\n"
          ]
        },
        {
          "name": "stdout",
          "output_type": "stream",
          "text": [
            "Training loss:\t5.531216690063476\n",
            "Validation Loss\t6.18452407836914\n",
            "\n"
          ]
        }
      ],
      "source": [
        "train_history, valid_history = train(model, train_dl, valid_dl)"
      ]
    },
    {
      "cell_type": "code",
      "execution_count": 87,
      "metadata": {},
      "outputs": [
        {
          "data": {
            "image/png": "[encoded data removed]",
            "text/plain": [
              "<Figure size 1200x700 with 1 Axes>"
            ]
          },
          "metadata": {},
          "output_type": "display_data"
        }
      ],
      "source": [
        "import matplotlib.pyplot as plt\n",
        "plt.rcParams.update({'font.size': 5})\n",
        "\n",
        "\n",
        "# plot loss history\n",
        "fig, ax = plt.subplots(figsize=(6,3.5), dpi=200)\n",
        "\n",
        "ax.plot(\n",
        "        train_history,\n",
        "        label = r'Training Loss',\n",
        "        #marker = 'o',\n",
        "        markersize = 4)\n",
        "\n",
        "ax.plot(\n",
        "        valid_history,\n",
        "        label = r'Validation loss',\n",
        "        #marker = 'o',\n",
        "        markersize = 4)\n",
        "\n",
        "ax.set_title(\"Model Loss History\")\n",
        "ax.set_xlabel('Epoch')\n",
        "ax.set_ylabel('Model Loss')\n",
        "ax.set_xlim(0, len(train_history)-1)\n",
        "ax.legend()\n",
        "ax.legend().get_frame().set_alpha(1.0)\n",
        "\n",
        "ax.grid(True)"
      ]
    },
    {
      "cell_type": "markdown",
      "metadata": {},
      "source": [
        "### Training and Evaluation Pipelines"
      ]
    },
    {
      "cell_type": "code",
      "execution_count": 22,
      "metadata": {},
      "outputs": [
        {
          "name": "stdout",
          "output_type": "stream",
          "text": [
            "Review 1: My favorite movie answer part pretty names times bottom today lady right across a scary working finds exactly down first\n",
            "Review 2: My favorite movie weird special town hard vampire german cheesy heard difficult looking non age people trash simply own etc\n",
            "Review 3: My favorite movie 20 paid important example movies rest t exactly goes nowhere very certain themselves finally sex any feel\n",
            "Review 4: My favorite movie leaves they best predictable game premise dramatic different project lead cheesy dumb disappointing people f cast quite\n",
            "Review 5: My favorite movie just kill actress actor idea score bought air re freeman zombie casting killed lady non simple heart\n"
          ]
        }
      ],
      "source": [
        "import torch.nn.functional as F\n",
        "\n",
        "def generate_text(model, text, max = 17, adjust = 1):\n",
        "    # set model to evaluation\n",
        "    model.eval()\n",
        "\n",
        "    # copy input string\n",
        "    input = text\n",
        "\n",
        "    # iterate max times\n",
        "    for _ in range(max):\n",
        "\n",
        "        # convert to tensor tokens\n",
        "        text_tokens = [vb[token] for token in tokenizer(input)]\n",
        "        tensor_tokens = torch.tensor(text_tokens, dtype = torch.int64).to(device)\n",
        "\n",
        "        # evaluate on model and adjust by scalar to add addtional randomness\n",
        "        with torch.no_grad():\n",
        "            logits = model(tensor_tokens)[-1,:] / adjust\n",
        "\n",
        "        # convert to probabilies\n",
        "        probs = F.softmax(logits, dim=-1)\n",
        "\n",
        "        # use multinomial distribution to select index of next word based on probs\n",
        "        choice = torch.multinomial(probs, 1).item()\n",
        "\n",
        "        # obtain next word from vb\n",
        "        next_word = vb.lookup_token(choice)\n",
        "\n",
        "        # append to end of input string\n",
        "        input = input+\" \"+next_word\n",
        "\n",
        "    return input\n",
        "\n",
        "for i in range(5):\n",
        "    generated_text = generate_text(model, \"My favorite movie\", 17, 10)\n",
        "    print(f\"Review {i+1}: {generated_text}\")"
      ]
    },
    {
      "cell_type": "markdown",
      "metadata": {},
      "source": [
        "# 2. Sequence to Sequence Model for Translation\n",
        "To begin our translation task for English to Korean and vice versa, we will again follow along with [Seq2Seq_LSTM_Simple_Sentiment_Analysis.ipynb](https://github.com/thejat/dl-notebooks/blob/master/examples/rnn/Seq2Seq_LSTM_Simple_Sentiment_Analysis.ipynb). The first step is to process `kor.txt` and convert using a custom torch `Dataset` class."
      ]
    },
    {
      "cell_type": "code",
      "execution_count": 74,
      "metadata": {},
      "outputs": [],
      "source": [
        "from torch.utils.data import Dataset\n",
        "\n",
        "class Translation_Dataset(Dataset):\n",
        "    '''\n",
        "    Creates a torch englsh-korean translation dataset.\n",
        "    '''\n",
        "    \n",
        "    def __init__(self, file: str, reverse: bool = False):\n",
        "        self.data = self._getdata(file, reverse)\n",
        "\n",
        "    def _getdata(self, file, reverse):\n",
        "        '''\n",
        "        Internal method to return english-korean translation pairs.\n",
        "        '''\n",
        "        \n",
        "        # read txt file\n",
        "        txt_raw = open(file, \"r\")\n",
        "        \n",
        "        # write to string\n",
        "        txt_data = txt_raw.read()\n",
        "        \n",
        "        # split on newline char\n",
        "        txt_list = txt_data.split(\"\\n\")\n",
        "        \n",
        "        # split on tab char and create tuples of english-korean, reverse as needed\n",
        "        split_list = [x.split(\"\\t\") for x in txt_list]\n",
        "        \n",
        "        tuple_list = [x[0:2] for x in split_list]\n",
        "        if reverse == True:\n",
        "            tuple_list = [x[::-1] for x in tuple_list]\n",
        "        \n",
        "        return tuple_list\n",
        "    \n",
        "    def __len__(self):\n",
        "        return len(self.data)\n",
        "    \n",
        "    def __getitem__(self, idx):\n",
        "        phrase, translation = self.data[idx]\n",
        "        return phrase, translation"
      ]
    },
    {
      "cell_type": "code",
      "execution_count": 82,
      "metadata": {},
      "outputs": [],
      "source": [
        "file = \"Misc_files/data/kor.txt\"\n",
        "\n",
        "eng_kor_dataset = Translation_Dataset(file)\n",
        "kor_eng_dataset = Translation_Dataset(file, reverse=True)"
      ]
    }
  ],
  "metadata": {
    "colab": {
      "provenance": []
    },
    "kernelspec": {
      "display_name": "Python 3",
      "language": "python",
      "name": "python3"
    },
    "language_info": {
      "codemirror_mode": {
        "name": "ipython",
        "version": 3
      },
      "file_extension": ".py",
      "mimetype": "text/x-python",
      "name": "python",
      "nbconvert_exporter": "python",
      "pygments_lexer": "ipython3",
      "version": "3.11.5"
    }
  },
  "nbformat": 4,
  "nbformat_minor": 0
}
