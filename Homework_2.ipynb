{
  "cells": [
    {
      "cell_type": "markdown",
      "metadata": {
        "id": "1x7GW3-8hY6f"
      },
      "source": [
        "# Homework 2\n",
        "## IDS 576 <br>\n",
        "Name: Isaac Salvador <br>\n",
        "Email: isalva2@uic.edu <br>\n",
        "UIN: 6669845132 <br>\n",
        "\n",
        "Name: Ahreum Kim <br>\n",
        "Email: akim239@uic.edu <br>\n",
        "UIN: 653241895 <br>\n",
        "\n",
        "please add your information here"
      ]
    },
    {
      "cell_type": "markdown",
      "metadata": {
        "id": "fGxRbbwUhY6j"
      },
      "source": [
        "## 1. CNNs and finetuning"
      ]
    },
    {
      "cell_type": "markdown",
      "metadata": {
        "id": "LwvGv3LJhY6j"
      },
      "source": [
        "\n",
        "### Download the CIFAR 10 dataset (original data can be found [here](http://www.cs.toronto.edu/~kriz/cifar.html), and here is a link to the  pickled [python version](https://www.cs.toronto.edu/~kriz/cifar-10-python.tar.gz).)\n",
        "\n",
        "First we specify some data augmentations with [Transforms V2](https://pytorch.org/vision/stable/auto_examples/plot_transforms_v2.html) for both the training and testing sets. The following transforms are applied to the `train_transform` object:\n",
        "\n",
        "- `Random Rotation`: Rotates the image between 0 and 30 degrees\n",
        "  \n",
        "- `RandomHorizontalFlip`: Randomly flips an image along the horizontal axis\n",
        "  \n",
        "- `ToImageTensor`: transforms input image into a `torch.Tensor`\n",
        "  \n",
        "- `ConvertImageDtype`: converts elements in tensors to `float32` dtype – necessary for development on M-series MacBooks.\n",
        "  \n",
        "- `Normalize`: Normalize tensor values such that the mean and standard deviation of the images become `0.0` and `1.0` respectively. Per-color mean and standard deviation values were calculated w.r.t. this [guide](https://saturncloud.io/blog/how-to-normalize-pytorch-cifar10-images-for-improved-model-performance/)."
      ]
    },
    {
      "cell_type": "code",
      "execution_count": 6,
      "metadata": {},
      "outputs": [],
      "source": [
        "import torch\n",
        "from torch import mps\n",
        "import torchvision\n",
        "torchvision.disable_beta_transforms_warning()\n",
        "import torchvision.transforms.v2 as transforms\n",
        "\n",
        "# make torch deterministic for reproducibility\n",
        "torch.manual_seed(576)\n",
        "\n",
        "train_transform = transforms.Compose(\n",
        "    [\n",
        "        transforms.RandomRotation(30),\n",
        "        transforms.RandomHorizontalFlip(),\n",
        "        transforms.ToImageTensor(),\n",
        "        transforms.ConvertImageDtype(torch.float32),\n",
        "        transforms.Normalize(\n",
        "            [0.4934569299, 0.483376652, 0.4471793473],\n",
        "            [0.2476211786, 0.2445851415, 0.2626110017]\n",
        "        )\n",
        "    ]\n",
        ")\n",
        "\n",
        "test_transform = transforms.compose(\n",
        "    [\n",
        "        transforms.ConvertImageDtype(torch.float32),\n",
        "        transforms.Normalize(\n",
        "            [0.4934569299, 0.483376652, 0.4471793473],\n",
        "            [0.2476211786, 0.2445851415, 0.2626110017]\n",
        "        )\n",
        "    ]\n",
        ")\n"
      ]
    },
    {
      "cell_type": "markdown",
      "metadata": {
        "id": "_wU_qcbLhY6k"
      },
      "source": [
        "Use the pretrained Resnet18 model (from trochvision) to extract features. Use the features as inputs in a new multi-class logistic regression model (use nn.Linear/ nn.Module to define your model)\n",
        "\t -(a) Describe any choices made and report test performance.\n",
        "\t -(b) Display the top 5 correct predictions and the top 5 incorrect predictions in each class (show the images and the prediction labels) compactly."
      ]
    },
    {
      "cell_type": "markdown",
      "metadata": {
        "id": "_AGGqFLJhY6k"
      },
      "source": [
        "Finetune the Resnet18 model's parameters suitably and repeat parts (a) and (b) from above. Compare the performance of finetuning versus using extracted features."
      ]
    },
    {
      "cell_type": "markdown",
      "metadata": {
        "id": "lb6cxHDihY6k"
      },
      "source": [
        "## 2. Movie embeddings"
      ]
    },
    {
      "cell_type": "markdown",
      "metadata": {
        "id": "owxHN_auhY6l"
      },
      "source": [
        "\n",
        "Instead of embedding words, we will embed movies.  In particular, if we can embed movies, then similar movies will be close to each other and can be recommended.  This line of reasoning  is analogous to the [distributional hypothesis of word meanings](https://en.wikipedia.org/wiki/Distributional_semantics). For words, this roughly translates to words that appear in similar sentences should have similar vector representations. For movies, vectors for two movies should be similar if they are watched by similar people.\n",
        "\n",
        "Let the total number of movies be $M$. Let $X_{i,j}$ be the number of users that liked both movies $i$ and $j$. We want to obtain vectors $v_1,...,v_i,...,v_j,...,v_M$ for all movies such that we minimize the cost $c(v_1,...,v_M) = \\sum_{i=1}^{M}\\sum_{j=1}^{M}\\mathbf{1}_{[i\\neq j]}(v_i^Tv_j - X_{i,j})^2$. Here $\\mathbf{1}_{[i\\neq j]}$ is a function that is $0$ when $i=j$ and $1$ otherwise."
      ]
    },
    {
      "cell_type": "markdown",
      "metadata": {
        "id": "3dkJNBx6hY6l"
      },
      "source": [
        "Compute data $X_{i,j}$ from the movielens (small) [dataset](https://files.grouplens.org/datasets/movielens/ml-latest-small.zip). You can also download using the link to `ml-latest-small.zip` from this [page](https://grouplens.org/datasets/movielens/) (be sure to read the corresponding [description](https://files.grouplens.org/datasets/movielens/ml-latest-small-README.html)). Briefly describe your data prep workflow (you can use `pandas` if needed)."
      ]
    },
    {
      "cell_type": "markdown",
      "metadata": {
        "id": "qN6ezzJ6hY6l"
      },
      "source": [
        "Optimize function $c(v_1,...,v_M)$ over $v_1,...,v_M$ using gradient descent (using `pytorch` or `tensorflow`). Plot the loss as a function of iteration for various choices (learning rates, choice of optimizers etc)."
      ]
    },
    {
      "cell_type": "markdown",
      "metadata": {
        "id": "0PrfHenBhY6m"
      },
      "source": [
        "Recommend top 10 movies (not vectors or indices but movie names) given movies (a) _Apollo 13_, (b) _Toy Story_, and (c) _Home Alone_ . Describe your recommendation strategy. Do the recommendations change when you change learning rates or optimizers? Why or why not?"
      ]
    }
  ],
  "metadata": {
    "colab": {
      "provenance": []
    },
    "kernelspec": {
      "display_name": "Python 3",
      "language": "python",
      "name": "python3"
    },
    "language_info": {
      "codemirror_mode": {
        "name": "ipython",
        "version": 3
      },
      "file_extension": ".py",
      "mimetype": "text/x-python",
      "name": "python",
      "nbconvert_exporter": "python",
      "pygments_lexer": "ipython3",
      "version": "3.11.4"
    }
  },
  "nbformat": 4,
  "nbformat_minor": 0
}
